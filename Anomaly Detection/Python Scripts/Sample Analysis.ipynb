{
 "cells": [
  {
   "cell_type": "code",
   "execution_count": 26,
   "metadata": {},
   "outputs": [],
   "source": [
    "import xgboost as xgb\n",
    "import numpy as np\n",
    "import pandas as pd\n",
    "import time\n",
    "import pickle\n",
    "import os\n",
    "from math import log\n",
    "import matplotlib.pyplot as plt\n",
    "\n",
    "import sklearn\n",
    "from sklearn.model_selection import train_test_split, GridSearchCV, RandomizedSearchCV, ParameterGrid,StratifiedKFold, cross_val_score\n",
    "\n",
    "from sklearn import metrics \n",
    "from sklearn.metrics import confusion_matrix, precision_recall_curve, average_precision_score, brier_score_loss, f1_score, log_loss,auc,roc_curve,auc\n",
    "\n",
    "from sklearn.linear_model import LogisticRegression, LogisticRegressionCV\n",
    "from sklearn.ensemble import RandomForestClassifier\n",
    "\n",
    "from sklearn.decomposition import PCA\n",
    "#from sklearn.utils.fixes import signature\n",
    "\n",
    "from datetime import datetime\n",
    "\n",
    "import warnings\n",
    "warnings.filterwarnings(\"ignore\", category=DeprecationWarning)"
   ]
  },
  {
   "cell_type": "code",
   "execution_count": 2,
   "metadata": {},
   "outputs": [],
   "source": [
    "os.chdir(r\"C:\\Users\\aman.khatri91425\\Desktop\\HomeCredit\\AAM\\False Rejects\")"
   ]
  },
  {
   "cell_type": "code",
   "execution_count": 3,
   "metadata": {},
   "outputs": [],
   "source": [
    "df=pd.read_csv(os.getcwd()+\"\\Data Files\\OP180NVHMaint.csv\")"
   ]
  },
  {
   "cell_type": "code",
   "execution_count": 4,
   "metadata": {},
   "outputs": [
    {
     "data": {
      "text/html": [
       "<div>\n",
       "<style scoped>\n",
       "    .dataframe tbody tr th:only-of-type {\n",
       "        vertical-align: middle;\n",
       "    }\n",
       "\n",
       "    .dataframe tbody tr th {\n",
       "        vertical-align: top;\n",
       "    }\n",
       "\n",
       "    .dataframe thead th {\n",
       "        text-align: right;\n",
       "    }\n",
       "</style>\n",
       "<table border=\"1\" class=\"dataframe\">\n",
       "  <thead>\n",
       "    <tr style=\"text-align: right;\">\n",
       "      <th></th>\n",
       "      <th>SITENAME</th>\n",
       "      <th>LINENAME</th>\n",
       "      <th>STATIONNAME</th>\n",
       "      <th>PARTNUMBER</th>\n",
       "      <th>STATUS</th>\n",
       "      <th>TOPLEVELSERIALNUMBER</th>\n",
       "      <th>PROD_TIMESTAMP</th>\n",
       "      <th>COLLID</th>\n",
       "      <th>CHARDESC</th>\n",
       "      <th>CHARVALUE</th>\n",
       "    </tr>\n",
       "  </thead>\n",
       "  <tbody>\n",
       "    <tr>\n",
       "      <th>0</th>\n",
       "      <td>GMCFULL</td>\n",
       "      <td>T1XX Front Axle FA HiV</td>\n",
       "      <td>OP180B</td>\n",
       "      <td>40217205</td>\n",
       "      <td>A</td>\n",
       "      <td>01A200150794</td>\n",
       "      <td>2020-01-17 05:57:44.613</td>\n",
       "      <td>-1281960286</td>\n",
       "      <td>NVH Torque Sweep Test Cycle Count</td>\n",
       "      <td>1.0</td>\n",
       "    </tr>\n",
       "    <tr>\n",
       "      <th>1</th>\n",
       "      <td>GMCFULL</td>\n",
       "      <td>T1XX Front Axle FA HiV</td>\n",
       "      <td>OP180B</td>\n",
       "      <td>40217205</td>\n",
       "      <td>A</td>\n",
       "      <td>01A200120004</td>\n",
       "      <td>2020-01-16 00:48:22.773</td>\n",
       "      <td>-1282718562</td>\n",
       "      <td>NVH Torque Sweep Test Cycle Count</td>\n",
       "      <td>1.0</td>\n",
       "    </tr>\n",
       "    <tr>\n",
       "      <th>2</th>\n",
       "      <td>GMCFULL</td>\n",
       "      <td>T1XX Front Axle FA HiV</td>\n",
       "      <td>OP180B</td>\n",
       "      <td>40217205</td>\n",
       "      <td>A</td>\n",
       "      <td>01A200130594</td>\n",
       "      <td>2020-01-16 01:34:25.477</td>\n",
       "      <td>-1282699737</td>\n",
       "      <td>NVH Torque Sweep Test Cycle Count</td>\n",
       "      <td>1.0</td>\n",
       "    </tr>\n",
       "    <tr>\n",
       "      <th>3</th>\n",
       "      <td>GMCFULL</td>\n",
       "      <td>T1XX Front Axle FA HiV</td>\n",
       "      <td>OP180A</td>\n",
       "      <td>40217205</td>\n",
       "      <td>A</td>\n",
       "      <td>01A200150767</td>\n",
       "      <td>2020-01-17 00:51:39.730</td>\n",
       "      <td>-1282102412</td>\n",
       "      <td>NVH Torque Sweep Test Cycle Count</td>\n",
       "      <td>1.0</td>\n",
       "    </tr>\n",
       "    <tr>\n",
       "      <th>4</th>\n",
       "      <td>GMCFULL</td>\n",
       "      <td>T1XX Front Axle FA HiV</td>\n",
       "      <td>OP180A</td>\n",
       "      <td>40217205</td>\n",
       "      <td>A</td>\n",
       "      <td>01A200140383</td>\n",
       "      <td>2020-01-16 03:31:51.810</td>\n",
       "      <td>-1282651218</td>\n",
       "      <td>NVH Torque Sweep Test Cycle Count</td>\n",
       "      <td>1.0</td>\n",
       "    </tr>\n",
       "  </tbody>\n",
       "</table>\n",
       "</div>"
      ],
      "text/plain": [
       "  SITENAME                LINENAME STATIONNAME  PARTNUMBER STATUS  \\\n",
       "0  GMCFULL  T1XX Front Axle FA HiV      OP180B    40217205      A   \n",
       "1  GMCFULL  T1XX Front Axle FA HiV      OP180B    40217205      A   \n",
       "2  GMCFULL  T1XX Front Axle FA HiV      OP180B    40217205      A   \n",
       "3  GMCFULL  T1XX Front Axle FA HiV      OP180A    40217205      A   \n",
       "4  GMCFULL  T1XX Front Axle FA HiV      OP180A    40217205      A   \n",
       "\n",
       "  TOPLEVELSERIALNUMBER           PROD_TIMESTAMP      COLLID  \\\n",
       "0         01A200150794  2020-01-17 05:57:44.613 -1281960286   \n",
       "1         01A200120004  2020-01-16 00:48:22.773 -1282718562   \n",
       "2         01A200130594  2020-01-16 01:34:25.477 -1282699737   \n",
       "3         01A200150767  2020-01-17 00:51:39.730 -1282102412   \n",
       "4         01A200140383  2020-01-16 03:31:51.810 -1282651218   \n",
       "\n",
       "                            CHARDESC  CHARVALUE  \n",
       "0  NVH Torque Sweep Test Cycle Count        1.0  \n",
       "1  NVH Torque Sweep Test Cycle Count        1.0  \n",
       "2  NVH Torque Sweep Test Cycle Count        1.0  \n",
       "3  NVH Torque Sweep Test Cycle Count        1.0  \n",
       "4  NVH Torque Sweep Test Cycle Count        1.0  "
      ]
     },
     "execution_count": 4,
     "metadata": {},
     "output_type": "execute_result"
    }
   ],
   "source": [
    "df.head(5)"
   ]
  },
  {
   "cell_type": "code",
   "execution_count": 23,
   "metadata": {},
   "outputs": [],
   "source": [
    "df[\"PROD_TIMESTAMP\"] = pd.to_datetime(df[\"PROD_TIMESTAMP\"],format = '%Y-%m-%d %H:%M:%S.%f')"
   ]
  },
  {
   "cell_type": "code",
   "execution_count": 24,
   "metadata": {},
   "outputs": [
    {
     "name": "stdout",
     "output_type": "stream",
     "text": [
      "<class 'pandas.core.frame.DataFrame'>\n",
      "RangeIndex: 437607 entries, 0 to 437606\n",
      "Data columns (total 10 columns):\n",
      "SITENAME                437607 non-null object\n",
      "LINENAME                437607 non-null object\n",
      "STATIONNAME             437607 non-null object\n",
      "PARTNUMBER              437607 non-null int64\n",
      "STATUS                  437607 non-null object\n",
      "TOPLEVELSERIALNUMBER    437607 non-null object\n",
      "PROD_TIMESTAMP          437607 non-null datetime64[ns]\n",
      "COLLID                  437607 non-null int64\n",
      "CHARDESC                437607 non-null object\n",
      "CHARVALUE               437607 non-null float64\n",
      "dtypes: datetime64[ns](1), float64(1), int64(2), object(6)\n",
      "memory usage: 33.4+ MB\n"
     ]
    }
   ],
   "source": [
    "df.info()"
   ]
  },
  {
   "cell_type": "code",
   "execution_count": 25,
   "metadata": {},
   "outputs": [
    {
     "data": {
      "text/html": [
       "<div>\n",
       "<style scoped>\n",
       "    .dataframe tbody tr th:only-of-type {\n",
       "        vertical-align: middle;\n",
       "    }\n",
       "\n",
       "    .dataframe tbody tr th {\n",
       "        vertical-align: top;\n",
       "    }\n",
       "\n",
       "    .dataframe thead th {\n",
       "        text-align: right;\n",
       "    }\n",
       "</style>\n",
       "<table border=\"1\" class=\"dataframe\">\n",
       "  <thead>\n",
       "    <tr style=\"text-align: right;\">\n",
       "      <th></th>\n",
       "      <th>count</th>\n",
       "      <th>mean</th>\n",
       "      <th>std</th>\n",
       "      <th>min</th>\n",
       "      <th>25%</th>\n",
       "      <th>50%</th>\n",
       "      <th>75%</th>\n",
       "      <th>max</th>\n",
       "    </tr>\n",
       "  </thead>\n",
       "  <tbody>\n",
       "    <tr>\n",
       "      <th>PARTNUMBER</th>\n",
       "      <td>437607.0</td>\n",
       "      <td>4.021721e+07</td>\n",
       "      <td>4.484519e-01</td>\n",
       "      <td>4.021720e+07</td>\n",
       "      <td>4.021720e+07</td>\n",
       "      <td>4.021720e+07</td>\n",
       "      <td>4.021720e+07</td>\n",
       "      <td>4.021721e+07</td>\n",
       "    </tr>\n",
       "    <tr>\n",
       "      <th>COLLID</th>\n",
       "      <td>437607.0</td>\n",
       "      <td>-1.248481e+09</td>\n",
       "      <td>1.176665e+07</td>\n",
       "      <td>-1.283455e+09</td>\n",
       "      <td>-1.253534e+09</td>\n",
       "      <td>-1.246316e+09</td>\n",
       "      <td>-1.239562e+09</td>\n",
       "      <td>-1.233079e+09</td>\n",
       "    </tr>\n",
       "    <tr>\n",
       "      <th>CHARVALUE</th>\n",
       "      <td>437607.0</td>\n",
       "      <td>5.395492e+02</td>\n",
       "      <td>5.678288e+02</td>\n",
       "      <td>0.000000e+00</td>\n",
       "      <td>1.000000e+00</td>\n",
       "      <td>2.500270e+02</td>\n",
       "      <td>1.095470e+03</td>\n",
       "      <td>1.500000e+03</td>\n",
       "    </tr>\n",
       "  </tbody>\n",
       "</table>\n",
       "</div>"
      ],
      "text/plain": [
       "               count          mean           std           min           25%  \\\n",
       "PARTNUMBER  437607.0  4.021721e+07  4.484519e-01  4.021720e+07  4.021720e+07   \n",
       "COLLID      437607.0 -1.248481e+09  1.176665e+07 -1.283455e+09 -1.253534e+09   \n",
       "CHARVALUE   437607.0  5.395492e+02  5.678288e+02  0.000000e+00  1.000000e+00   \n",
       "\n",
       "                     50%           75%           max  \n",
       "PARTNUMBER  4.021720e+07  4.021720e+07  4.021721e+07  \n",
       "COLLID     -1.246316e+09 -1.239562e+09 -1.233079e+09  \n",
       "CHARVALUE   2.500270e+02  1.095470e+03  1.500000e+03  "
      ]
     },
     "execution_count": 25,
     "metadata": {},
     "output_type": "execute_result"
    }
   ],
   "source": [
    "df.describe().T"
   ]
  },
  {
   "cell_type": "code",
   "execution_count": 7,
   "metadata": {},
   "outputs": [],
   "source": [
    "# import pandas_profiling\n",
    "from pandas_profiling import ProfileReport\n",
    "prof = ProfileReport(df)\n",
    "prof.to_file(outputfile='output.html')\n",
    "# df.profile_report()"
   ]
  },
  {
   "cell_type": "code",
   "execution_count": 8,
   "metadata": {},
   "outputs": [
    {
     "data": {
      "text/html": [
       "<div>\n",
       "<style scoped>\n",
       "    .dataframe tbody tr th:only-of-type {\n",
       "        vertical-align: middle;\n",
       "    }\n",
       "\n",
       "    .dataframe tbody tr th {\n",
       "        vertical-align: top;\n",
       "    }\n",
       "\n",
       "    .dataframe thead tr th {\n",
       "        text-align: left;\n",
       "    }\n",
       "\n",
       "    .dataframe thead tr:last-of-type th {\n",
       "        text-align: right;\n",
       "    }\n",
       "</style>\n",
       "<table border=\"1\" class=\"dataframe\">\n",
       "  <thead>\n",
       "    <tr>\n",
       "      <th></th>\n",
       "      <th colspan=\"2\" halign=\"left\">CHARVALUE</th>\n",
       "    </tr>\n",
       "    <tr>\n",
       "      <th></th>\n",
       "      <th>max</th>\n",
       "      <th>min</th>\n",
       "    </tr>\n",
       "    <tr>\n",
       "      <th>CHARDESC</th>\n",
       "      <th></th>\n",
       "      <th></th>\n",
       "    </tr>\n",
       "  </thead>\n",
       "  <tbody>\n",
       "    <tr>\n",
       "      <th>LH Slide To Full Depth Posn</th>\n",
       "      <td>1096.970</td>\n",
       "      <td>1081.560</td>\n",
       "    </tr>\n",
       "    <tr>\n",
       "      <th>NVH Torque Sweep Test Cycle Count</th>\n",
       "      <td>2.000</td>\n",
       "      <td>0.000</td>\n",
       "    </tr>\n",
       "    <tr>\n",
       "      <th>Pinion Slide To Full Depth Posn</th>\n",
       "      <td>252.934</td>\n",
       "      <td>242.427</td>\n",
       "    </tr>\n",
       "    <tr>\n",
       "      <th>RH Slide To Full Depth Posn</th>\n",
       "      <td>1500.000</td>\n",
       "      <td>1106.580</td>\n",
       "    </tr>\n",
       "  </tbody>\n",
       "</table>\n",
       "</div>"
      ],
      "text/plain": [
       "                                  CHARVALUE          \n",
       "                                        max       min\n",
       "CHARDESC                                             \n",
       "LH Slide To Full Depth Posn        1096.970  1081.560\n",
       "NVH Torque Sweep Test Cycle Count     2.000     0.000\n",
       "Pinion Slide To Full Depth Posn     252.934   242.427\n",
       "RH Slide To Full Depth Posn        1500.000  1106.580"
      ]
     },
     "execution_count": 8,
     "metadata": {},
     "output_type": "execute_result"
    }
   ],
   "source": [
    "df[[\"CHARDESC\",\"CHARVALUE\"]].groupby(\"CHARDESC\").agg([\"max\",\"min\"])"
   ]
  },
  {
   "cell_type": "code",
   "execution_count": 9,
   "metadata": {},
   "outputs": [
    {
     "data": {
      "text/html": [
       "<div>\n",
       "<style scoped>\n",
       "    .dataframe tbody tr th:only-of-type {\n",
       "        vertical-align: middle;\n",
       "    }\n",
       "\n",
       "    .dataframe tbody tr th {\n",
       "        vertical-align: top;\n",
       "    }\n",
       "\n",
       "    .dataframe thead th {\n",
       "        text-align: right;\n",
       "    }\n",
       "</style>\n",
       "<table border=\"1\" class=\"dataframe\">\n",
       "  <thead>\n",
       "    <tr style=\"text-align: right;\">\n",
       "      <th></th>\n",
       "      <th>STATIONNAME</th>\n",
       "      <th>COUNT</th>\n",
       "      <th>MAX_CHARVALUE</th>\n",
       "      <th>MIN_CHAR_VALUE</th>\n",
       "      <th>MEAN_CHAR_VALUE</th>\n",
       "      <th>MEDIAN_CHAR_VALUE</th>\n",
       "    </tr>\n",
       "  </thead>\n",
       "  <tbody>\n",
       "    <tr>\n",
       "      <th>0</th>\n",
       "      <td>OP180A</td>\n",
       "      <td>232565</td>\n",
       "      <td>1500.00</td>\n",
       "      <td>0.0</td>\n",
       "      <td>575.796138</td>\n",
       "      <td>245.116</td>\n",
       "    </tr>\n",
       "    <tr>\n",
       "      <th>1</th>\n",
       "      <td>OP180B</td>\n",
       "      <td>205042</td>\n",
       "      <td>1117.33</td>\n",
       "      <td>0.0</td>\n",
       "      <td>498.436747</td>\n",
       "      <td>251.868</td>\n",
       "    </tr>\n",
       "  </tbody>\n",
       "</table>\n",
       "</div>"
      ],
      "text/plain": [
       "  STATIONNAME   COUNT  MAX_CHARVALUE  MIN_CHAR_VALUE  MEAN_CHAR_VALUE  \\\n",
       "0      OP180A  232565        1500.00             0.0       575.796138   \n",
       "1      OP180B  205042        1117.33             0.0       498.436747   \n",
       "\n",
       "   MEDIAN_CHAR_VALUE  \n",
       "0            245.116  \n",
       "1            251.868  "
      ]
     },
     "execution_count": 9,
     "metadata": {},
     "output_type": "execute_result"
    }
   ],
   "source": [
    "station_count_df=df[[\"STATIONNAME\",\"CHARVALUE\"]].groupby(\"STATIONNAME\").agg([\"count\",\"max\",\"min\",\"mean\",\"median\"]).reset_index()\n",
    "station_count_df.columns = [\"STATIONNAME\",\"COUNT\",\"MAX_CHARVALUE\",\"MIN_CHAR_VALUE\",\"MEAN_CHAR_VALUE\",\"MEDIAN_CHAR_VALUE\"]\n",
    "\n",
    "station_count_df[[\"STATIONNAME\",\"COUNT\"]].plot(kind = 'bar', x='STATIONNAME')\n",
    "\n",
    "station_count_df"
   ]
  },
  {
   "cell_type": "code",
   "execution_count": 10,
   "metadata": {},
   "outputs": [
    {
     "data": {
      "text/html": [
       "<div>\n",
       "<style scoped>\n",
       "    .dataframe tbody tr th:only-of-type {\n",
       "        vertical-align: middle;\n",
       "    }\n",
       "\n",
       "    .dataframe tbody tr th {\n",
       "        vertical-align: top;\n",
       "    }\n",
       "\n",
       "    .dataframe thead th {\n",
       "        text-align: right;\n",
       "    }\n",
       "</style>\n",
       "<table border=\"1\" class=\"dataframe\">\n",
       "  <thead>\n",
       "    <tr style=\"text-align: right;\">\n",
       "      <th></th>\n",
       "      <th>STATIONNAME</th>\n",
       "      <th>COUNT</th>\n",
       "      <th>MAX_CHARVALUE</th>\n",
       "      <th>MIN_CHAR_VALUE</th>\n",
       "      <th>MEAN_CHAR_VALUE</th>\n",
       "      <th>MEDIAN_CHAR_VALUE</th>\n",
       "    </tr>\n",
       "  </thead>\n",
       "  <tbody>\n",
       "    <tr>\n",
       "      <th>0</th>\n",
       "      <td>OP180A</td>\n",
       "      <td>232565</td>\n",
       "      <td>1500.00</td>\n",
       "      <td>0.0</td>\n",
       "      <td>575.796138</td>\n",
       "      <td>245.116</td>\n",
       "    </tr>\n",
       "    <tr>\n",
       "      <th>1</th>\n",
       "      <td>OP180B</td>\n",
       "      <td>205042</td>\n",
       "      <td>1117.33</td>\n",
       "      <td>0.0</td>\n",
       "      <td>498.436747</td>\n",
       "      <td>251.868</td>\n",
       "    </tr>\n",
       "  </tbody>\n",
       "</table>\n",
       "</div>"
      ],
      "text/plain": [
       "  STATIONNAME   COUNT  MAX_CHARVALUE  MIN_CHAR_VALUE  MEAN_CHAR_VALUE  \\\n",
       "0      OP180A  232565        1500.00             0.0       575.796138   \n",
       "1      OP180B  205042        1117.33             0.0       498.436747   \n",
       "\n",
       "   MEDIAN_CHAR_VALUE  \n",
       "0            245.116  \n",
       "1            251.868  "
      ]
     },
     "execution_count": 10,
     "metadata": {},
     "output_type": "execute_result"
    }
   ],
   "source": [
    "station_count_df"
   ]
  },
  {
   "cell_type": "code",
   "execution_count": 11,
   "metadata": {},
   "outputs": [
    {
     "data": {
      "text/html": [
       "<div>\n",
       "<style scoped>\n",
       "    .dataframe tbody tr th:only-of-type {\n",
       "        vertical-align: middle;\n",
       "    }\n",
       "\n",
       "    .dataframe tbody tr th {\n",
       "        vertical-align: top;\n",
       "    }\n",
       "\n",
       "    .dataframe thead th {\n",
       "        text-align: right;\n",
       "    }\n",
       "</style>\n",
       "<table border=\"1\" class=\"dataframe\">\n",
       "  <thead>\n",
       "    <tr style=\"text-align: right;\">\n",
       "      <th></th>\n",
       "      <th>STATUS</th>\n",
       "      <th>COUNT</th>\n",
       "      <th>MAX_CHARVALUE</th>\n",
       "      <th>MIN_CHAR_VALUE</th>\n",
       "      <th>MEAN_CHAR_VALUE</th>\n",
       "      <th>MEDIAN_CHAR_VALUE</th>\n",
       "    </tr>\n",
       "  </thead>\n",
       "  <tbody>\n",
       "    <tr>\n",
       "      <th>0</th>\n",
       "      <td>A</td>\n",
       "      <td>437024</td>\n",
       "      <td>1500.00</td>\n",
       "      <td>1.0</td>\n",
       "      <td>539.538550</td>\n",
       "      <td>250.0075</td>\n",
       "    </tr>\n",
       "    <tr>\n",
       "      <th>1</th>\n",
       "      <td>X</td>\n",
       "      <td>583</td>\n",
       "      <td>1498.37</td>\n",
       "      <td>0.0</td>\n",
       "      <td>547.514556</td>\n",
       "      <td>251.5970</td>\n",
       "    </tr>\n",
       "  </tbody>\n",
       "</table>\n",
       "</div>"
      ],
      "text/plain": [
       "  STATUS   COUNT  MAX_CHARVALUE  MIN_CHAR_VALUE  MEAN_CHAR_VALUE  \\\n",
       "0      A  437024        1500.00             1.0       539.538550   \n",
       "1      X     583        1498.37             0.0       547.514556   \n",
       "\n",
       "   MEDIAN_CHAR_VALUE  \n",
       "0           250.0075  \n",
       "1           251.5970  "
      ]
     },
     "execution_count": 11,
     "metadata": {},
     "output_type": "execute_result"
    }
   ],
   "source": [
    "status_summ_df=df[[\"STATUS\",\"CHARVALUE\"]].groupby(\"STATUS\").agg([\"count\",\"max\",\"min\",\"mean\",\"median\"]).reset_index()\n",
    "status_summ_df.columns = [\"STATUS\",\"COUNT\",\"MAX_CHARVALUE\",\"MIN_CHAR_VALUE\",\"MEAN_CHAR_VALUE\",\"MEDIAN_CHAR_VALUE\"]\n",
    "status_summ_df"
   ]
  },
  {
   "cell_type": "code",
   "execution_count": 12,
   "metadata": {
    "scrolled": true
   },
   "outputs": [
    {
     "name": "stderr",
     "output_type": "stream",
     "text": [
      "C:\\Users\\aman.khatri91425\\AppData\\Local\\Continuum\\anaconda3\\lib\\site-packages\\matplotlib\\figure.py:445: UserWarning: Matplotlib is currently using agg, which is a non-GUI backend, so cannot show the figure.\n",
      "  % get_backend())\n"
     ]
    }
   ],
   "source": [
    "fig = plt.figure(figsize = (10,3))\n",
    "ax1= fig.add_subplot(1,2,1)\n",
    "df[df[\"STATUS\"]==\"A\"].CHARVALUE.hist(density=True, bins=50)\n",
    "plt.title(\"CHARVALUE Dist A\")\n",
    "plt.xticks(rotation = 90,)\n",
    "\n",
    "ax2= fig.add_subplot(1,2,2)\n",
    "df[df[\"STATUS\"]==\"X\"].CHARVALUE.hist(density=True, bins = 50)\n",
    "plt.title(\"CHARVALUE Dist X\")\n",
    "plt.xticks(rotation = 90,)\n",
    "\n",
    "\n",
    "plt.show()"
   ]
  },
  {
   "cell_type": "code",
   "execution_count": 13,
   "metadata": {},
   "outputs": [
    {
     "data": {
      "text/plain": [
       "<matplotlib.axes._subplots.AxesSubplot at 0x21026dad860>"
      ]
     },
     "execution_count": 13,
     "metadata": {},
     "output_type": "execute_result"
    }
   ],
   "source": [
    "df[df[\"STATUS\"]==\"A\"].CHARVALUE.hist(density=True)"
   ]
  },
  {
   "cell_type": "markdown",
   "metadata": {},
   "source": [
    "##### Both accepted and rejected parts have similar trends in CHar_value"
   ]
  },
  {
   "cell_type": "code",
   "execution_count": 14,
   "metadata": {},
   "outputs": [
    {
     "data": {
      "text/plain": [
       "X    9\n",
       "Name: STATUS, dtype: int64"
      ]
     },
     "execution_count": 14,
     "metadata": {},
     "output_type": "execute_result"
    }
   ],
   "source": [
    "df[df[\"CHARVALUE\"]==0].STATUS.value_counts()"
   ]
  },
  {
   "cell_type": "markdown",
   "metadata": {},
   "source": [
    "##### 0 Charvalue corresponds only to rejected parts"
   ]
  },
  {
   "cell_type": "code",
   "execution_count": null,
   "metadata": {},
   "outputs": [],
   "source": []
  },
  {
   "cell_type": "code",
   "execution_count": null,
   "metadata": {},
   "outputs": [],
   "source": []
  },
  {
   "cell_type": "code",
   "execution_count": 15,
   "metadata": {},
   "outputs": [
    {
     "data": {
      "text/plain": [
       "<matplotlib.axes._subplots.AxesSubplot at 0x21026dad860>"
      ]
     },
     "execution_count": 15,
     "metadata": {},
     "output_type": "execute_result"
    }
   ],
   "source": [
    "df_tmp = df[\"COLLID\"].value_counts()\n",
    "df_tmp.hist()"
   ]
  },
  {
   "cell_type": "code",
   "execution_count": 18,
   "metadata": {},
   "outputs": [
    {
     "data": {
      "text/plain": [
       "4    88820\n",
       "1    82310\n",
       "3        3\n",
       "8        1\n",
       "Name: PROD_TIMESTAMP, dtype: int64"
      ]
     },
     "execution_count": 18,
     "metadata": {},
     "output_type": "execute_result"
    }
   ],
   "source": [
    "df[\"PROD_TIMESTAMP\"].value_counts().value_counts()"
   ]
  },
  {
   "cell_type": "code",
   "execution_count": null,
   "metadata": {},
   "outputs": [],
   "source": []
  }
 ],
 "metadata": {
  "kernelspec": {
   "display_name": "Python 3",
   "language": "python",
   "name": "python3"
  },
  "language_info": {
   "codemirror_mode": {
    "name": "ipython",
    "version": 3
   },
   "file_extension": ".py",
   "mimetype": "text/x-python",
   "name": "python",
   "nbconvert_exporter": "python",
   "pygments_lexer": "ipython3",
   "version": "3.7.3"
  }
 },
 "nbformat": 4,
 "nbformat_minor": 2
}
