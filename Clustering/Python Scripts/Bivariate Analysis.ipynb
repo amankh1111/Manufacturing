{
 "cells": [
  {
   "cell_type": "code",
   "execution_count": 23,
   "metadata": {},
   "outputs": [],
   "source": [
    "import pandas as pd\n",
    "import numpy as np\n",
    "import os\n",
    "import matplotlib.pyplot as plt \n",
    "import pydotplus\n",
    "from sklearn.tree import DecisionTreeClassifier\n",
    "from sklearn import tree\n",
    "from IPython.display import Image \n",
    "pd.options.display.max_columns=15\n",
    "import seaborn as sns"
   ]
  },
  {
   "cell_type": "code",
   "execution_count": null,
   "metadata": {},
   "outputs": [],
   "source": [
    "os.chdir(r\"C:\\Users\\aman.khatri91425\\Desktop\\HomeCredit\\AAM\\Clustering\")\n",
    "seed = 4"
   ]
  },
  {
   "cell_type": "code",
   "execution_count": null,
   "metadata": {},
   "outputs": [],
   "source": [
    "df = pd.read_csv(os.getcwd()+r\"\\Data Files\\NVHGearsBLCarrier.csv\")"
   ]
  },
  {
   "cell_type": "code",
   "execution_count": 26,
   "metadata": {},
   "outputs": [
    {
     "data": {
      "text/html": [
       "<div>\n",
       "<style scoped>\n",
       "    .dataframe tbody tr th:only-of-type {\n",
       "        vertical-align: middle;\n",
       "    }\n",
       "\n",
       "    .dataframe tbody tr th {\n",
       "        vertical-align: top;\n",
       "    }\n",
       "\n",
       "    .dataframe thead th {\n",
       "        text-align: right;\n",
       "    }\n",
       "</style>\n",
       "<table border=\"1\" class=\"dataframe\">\n",
       "  <thead>\n",
       "    <tr style=\"text-align: right;\">\n",
       "      <th></th>\n",
       "      <th>SITENAME</th>\n",
       "      <th>PLANTNAME</th>\n",
       "      <th>LINENAME</th>\n",
       "      <th>STATIONNAME</th>\n",
       "      <th>LAPPER_STATION</th>\n",
       "      <th>BACKLASH_STATION</th>\n",
       "      <th>OP110_STN</th>\n",
       "      <th>...</th>\n",
       "      <th>'SFT 1st Mesh Harmonic Coast Side Pos 1 Val (µrad)'</th>\n",
       "      <th>'Single Flank Tester Spiral Angle Pinion'</th>\n",
       "      <th>'Single Flank Tester Spiral Angle Ring Gear'</th>\n",
       "      <th>M46BPDXX_DISTANCE_D_SEAT_TO_FG</th>\n",
       "      <th>M47BPDXX_DISTANCE_DE_TO_F_SEAT</th>\n",
       "      <th>M48BPDXX_DISTANCE_DE_TO_G_SEAT</th>\n",
       "      <th>PERP_OF_AXIS_DAT_FG_TO_AXIS_DAT_DE_DAT_B_TWO_COAXIAL_HOLES</th>\n",
       "    </tr>\n",
       "  </thead>\n",
       "  <tbody>\n",
       "    <tr>\n",
       "      <th>0</th>\n",
       "      <td>GMCFULL</td>\n",
       "      <td>Full Frame BU (Plant 5)</td>\n",
       "      <td>NVH A&amp;B</td>\n",
       "      <td>OP300A</td>\n",
       "      <td>GBT604077</td>\n",
       "      <td>B</td>\n",
       "      <td>110B</td>\n",
       "      <td>...</td>\n",
       "      <td>3.0684</td>\n",
       "      <td>51.083</td>\n",
       "      <td>25.066</td>\n",
       "      <td>158.5025</td>\n",
       "      <td>142.5115</td>\n",
       "      <td>105.0310</td>\n",
       "      <td>0.06390</td>\n",
       "    </tr>\n",
       "    <tr>\n",
       "      <th>1</th>\n",
       "      <td>GMCFULL</td>\n",
       "      <td>Full Frame BU (Plant 5)</td>\n",
       "      <td>NVH A&amp;B</td>\n",
       "      <td>OP300A</td>\n",
       "      <td>GBT702432</td>\n",
       "      <td>A</td>\n",
       "      <td>110B</td>\n",
       "      <td>...</td>\n",
       "      <td>3.1568</td>\n",
       "      <td>51.083</td>\n",
       "      <td>25.066</td>\n",
       "      <td>158.4980</td>\n",
       "      <td>142.4870</td>\n",
       "      <td>105.0190</td>\n",
       "      <td>0.00880</td>\n",
       "    </tr>\n",
       "    <tr>\n",
       "      <th>2</th>\n",
       "      <td>GMCFULL</td>\n",
       "      <td>Full Frame BU (Plant 5)</td>\n",
       "      <td>NVH A&amp;B</td>\n",
       "      <td>OP300B</td>\n",
       "      <td>GBT702432</td>\n",
       "      <td>A</td>\n",
       "      <td>110B</td>\n",
       "      <td>...</td>\n",
       "      <td>3.6532</td>\n",
       "      <td>51.083</td>\n",
       "      <td>25.066</td>\n",
       "      <td>158.4850</td>\n",
       "      <td>142.4860</td>\n",
       "      <td>105.0425</td>\n",
       "      <td>0.01305</td>\n",
       "    </tr>\n",
       "    <tr>\n",
       "      <th>3</th>\n",
       "      <td>GMCFULL</td>\n",
       "      <td>Full Frame BU (Plant 5)</td>\n",
       "      <td>NVH A&amp;B</td>\n",
       "      <td>OP300B</td>\n",
       "      <td>GBT604077</td>\n",
       "      <td>A</td>\n",
       "      <td>110A</td>\n",
       "      <td>...</td>\n",
       "      <td>2.0519</td>\n",
       "      <td>51.083</td>\n",
       "      <td>25.066</td>\n",
       "      <td>158.5055</td>\n",
       "      <td>142.4780</td>\n",
       "      <td>105.0230</td>\n",
       "      <td>0.02975</td>\n",
       "    </tr>\n",
       "    <tr>\n",
       "      <th>4</th>\n",
       "      <td>GMCFULL</td>\n",
       "      <td>Full Frame BU (Plant 5)</td>\n",
       "      <td>NVH A&amp;B</td>\n",
       "      <td>OP300A</td>\n",
       "      <td>GBT604077</td>\n",
       "      <td>A</td>\n",
       "      <td>110A</td>\n",
       "      <td>...</td>\n",
       "      <td>0.5989</td>\n",
       "      <td>51.083</td>\n",
       "      <td>25.066</td>\n",
       "      <td>158.4710</td>\n",
       "      <td>142.5160</td>\n",
       "      <td>105.0750</td>\n",
       "      <td>0.05240</td>\n",
       "    </tr>\n",
       "  </tbody>\n",
       "</table>\n",
       "<p>5 rows × 44 columns</p>\n",
       "</div>"
      ],
      "text/plain": [
       "  SITENAME                PLANTNAME LINENAME STATIONNAME LAPPER_STATION  \\\n",
       "0  GMCFULL  Full Frame BU (Plant 5)  NVH A&B      OP300A      GBT604077   \n",
       "1  GMCFULL  Full Frame BU (Plant 5)  NVH A&B      OP300A      GBT702432   \n",
       "2  GMCFULL  Full Frame BU (Plant 5)  NVH A&B      OP300B      GBT702432   \n",
       "3  GMCFULL  Full Frame BU (Plant 5)  NVH A&B      OP300B      GBT604077   \n",
       "4  GMCFULL  Full Frame BU (Plant 5)  NVH A&B      OP300A      GBT604077   \n",
       "\n",
       "  BACKLASH_STATION OP110_STN  ...  \\\n",
       "0                B      110B  ...   \n",
       "1                A      110B  ...   \n",
       "2                A      110B  ...   \n",
       "3                A      110A  ...   \n",
       "4                A      110A  ...   \n",
       "\n",
       "  'SFT 1st Mesh Harmonic Coast Side Pos 1 Val (µrad)'  \\\n",
       "0                                             3.0684    \n",
       "1                                             3.1568    \n",
       "2                                             3.6532    \n",
       "3                                             2.0519    \n",
       "4                                             0.5989    \n",
       "\n",
       "  'Single Flank Tester Spiral Angle Pinion'  \\\n",
       "0                                    51.083   \n",
       "1                                    51.083   \n",
       "2                                    51.083   \n",
       "3                                    51.083   \n",
       "4                                    51.083   \n",
       "\n",
       "   'Single Flank Tester Spiral Angle Ring Gear'  \\\n",
       "0                                        25.066   \n",
       "1                                        25.066   \n",
       "2                                        25.066   \n",
       "3                                        25.066   \n",
       "4                                        25.066   \n",
       "\n",
       "  M46BPDXX_DISTANCE_D_SEAT_TO_FG M47BPDXX_DISTANCE_DE_TO_F_SEAT  \\\n",
       "0                       158.5025                       142.5115   \n",
       "1                       158.4980                       142.4870   \n",
       "2                       158.4850                       142.4860   \n",
       "3                       158.5055                       142.4780   \n",
       "4                       158.4710                       142.5160   \n",
       "\n",
       "   M48BPDXX_DISTANCE_DE_TO_G_SEAT  \\\n",
       "0                        105.0310   \n",
       "1                        105.0190   \n",
       "2                        105.0425   \n",
       "3                        105.0230   \n",
       "4                        105.0750   \n",
       "\n",
       "  PERP_OF_AXIS_DAT_FG_TO_AXIS_DAT_DE_DAT_B_TWO_COAXIAL_HOLES  \n",
       "0                                            0.06390          \n",
       "1                                            0.00880          \n",
       "2                                            0.01305          \n",
       "3                                            0.02975          \n",
       "4                                            0.05240          \n",
       "\n",
       "[5 rows x 44 columns]"
      ]
     },
     "execution_count": 26,
     "metadata": {},
     "output_type": "execute_result"
    }
   ],
   "source": [
    "df.head()"
   ]
  },
  {
   "cell_type": "markdown",
   "metadata": {},
   "source": [
    "# Data Cleaning"
   ]
  },
  {
   "cell_type": "code",
   "execution_count": 27,
   "metadata": {},
   "outputs": [],
   "source": [
    "df[\"STATUS_ENC\"]=np.where(df[\"STATUS\"]=='A',0,1)"
   ]
  },
  {
   "cell_type": "code",
   "execution_count": 28,
   "metadata": {},
   "outputs": [],
   "source": [
    "df[\"'Pinion Position'\"] = df[\"'Pinion Position'\"].fillna(df.groupby('TOPPART')[\"'Pinion Position'\"].transform('median'))\n",
    "df[\"'Pinion Head dist real'\"] = df[\"'Pinion Head dist real'\"].fillna(df.groupby('TOPPART')[\"'Pinion Head dist real'\"].transform('median'))\n",
    "df[\"'Single Flank Tester Spiral Angle Pinion'\"] = df[\"'Single Flank Tester Spiral Angle Pinion'\"].fillna(df.groupby(['LAPPER_STATION'])[\"'Single Flank Tester Spiral Angle Pinion'\"].transform('median'))\n",
    "df[\"'Single Flank Tester Spiral Angle Ring Gear'\"] = df[\"'Single Flank Tester Spiral Angle Ring Gear'\"].fillna(df.groupby(['LAPPER_STATION'])[\"'Single Flank Tester Spiral Angle Ring Gear'\"].transform('median'))"
   ]
  },
  {
   "cell_type": "code",
   "execution_count": 29,
   "metadata": {},
   "outputs": [],
   "source": [
    "df_model = df[df[\"TOPPART\"]==84833854]"
   ]
  },
  {
   "cell_type": "markdown",
   "metadata": {},
   "source": [
    "# Sample Histogram and Chi square significance for chategorical variables"
   ]
  },
  {
   "cell_type": "code",
   "execution_count": 30,
   "metadata": {},
   "outputs": [],
   "source": [
    "def BVA_categorical_plot(data, tar, cat):\n",
    "    '''take data and two categorical variables,\n",
    "    calculates the chi2 significance between the two variables\n",
    "    and prints the result with countplot & CrossTab\n",
    "    '''\n",
    "    #isolating the variables\n",
    "    data = data[[cat,tar]][:]\n",
    "    #forming a crosstab\n",
    "    table = pd.crosstab(data[tar],data[cat],)\n",
    "    f_obs = np.array([table.iloc[0][:].values,\n",
    "    table.iloc[1][:].values])\n",
    "    #performing chi2 test\n",
    "    from scipy.stats import chi2_contingency\n",
    "    chi, p, dof, expected = chi2_contingency(f_obs)\n",
    "    #checking whether results are significant\n",
    "    if p<0.05:\n",
    "        sig = True\n",
    "    else:\n",
    "        sig = False\n",
    "    #plotting grouped plot\n",
    "    sns.countplot(x=cat, hue=tar, data=data)\n",
    "    plt.title(\"p-value = {}\\n difference significant? = {}\\n\".format(round(p,8),sig))\n",
    "    #plotting percent stacked bar plot\n",
    "    #sns.catplot(ax, kind='stacked')\n",
    "    ax1 = data.groupby(cat)[tar].value_counts(normalize=True).unstack()\n",
    "    ax1.plot(kind='bar', stacked='True',title=str(ax1))\n",
    "    int_level = data[cat].value_counts()"
   ]
  },
  {
   "cell_type": "code",
   "execution_count": 31,
   "metadata": {},
   "outputs": [
    {
     "data": {
      "image/png": "[encoded data removed]",
      "text/plain": [
       "<Figure size 432x288 with 1 Axes>"
      ]
     },
     "metadata": {
      "needs_background": "light"
     },
     "output_type": "display_data"
    },
    {
     "data": {
      "image/png": "[encoded data removed]",
      "text/plain": [
       "<Figure size 432x288 with 1 Axes>"
      ]
     },
     "metadata": {
      "needs_background": "light"
     },
     "output_type": "display_data"
    }
   ],
   "source": [
    "BVA_categorical_plot(data = df, tar = \"STATUS_ENC\", cat=\"STATIONNAME\")"
   ]
  },
  {
   "cell_type": "code",
   "execution_count": 32,
   "metadata": {},
   "outputs": [],
   "source": [
    "def TwoSampleZ(X1, X2, sigma1, sigma2, N1, N2):\n",
    "    '''\n",
    "    function takes mean, standard dev., and no. of observations and returns: p-value calculated  for 2-sampled Z-Test\n",
    "    '''\n",
    "    from numpy import sqrt, abs, round\n",
    "    from scipy.stats import norm\n",
    "    ovr_sigma = sqrt(sigma1**2/N1 + sigma2**2/N2)\n",
    "    z = (X1 - X2)/ovr_sigma\n",
    "    pval = 2*(1 - norm.cdf(abs(z)))\n",
    "    return pval\n",
    "\n",
    "def Bivariate_cont_cat(data, cont, cat, category):\n",
    "    #creating 2 samples\n",
    "    x1 = data[cont][data[cat]==category][:] # all categorical features\n",
    "    x2 = data[cont][~(data[cat]==category)][:] # all continuous features\n",
    "    #calculating descriptives\n",
    "    n1, n2 = x1.shape[0], x2.shape[0]\n",
    "    m1, m2 = x1.mean(), x2.mean() # calculates mean\n",
    "    std1, std2 = x1.std(), x2.mean() # calculates standard deviation\n",
    "    #calculating p-values\n",
    "    z_p_val = TwoSampleZ(m1, m2, std1, std2, n1, n2)\n",
    "    #table\n",
    "    table = pd.pivot_table(data=data, values=cont, columns=cat, aggfunc = np.mean)\n",
    "    #plotting\n",
    "    plt.figure(figsize = (15,6), dpi=140)\n",
    "    #barplot\n",
    "    plt.subplot(1,2,1)\n",
    "    sns.barplot([str(category),'not {}'.format(category)], [m1, m2])\n",
    "    plt.ylabel('mean {}'.format(cont))\n",
    "    plt.xlabel(cat)\n",
    "    plt.title(' n z-test p-value = {}n {}'.format(z_p_val,table))\n",
    "    # boxplot\n",
    "    plt.subplot(1,2,2)\n",
    "    sns.boxplot(x=cat, y=cont, data=data)\n",
    "    plt.title('categorical boxplot')"
   ]
  },
  {
   "cell_type": "code",
   "execution_count": 33,
   "metadata": {},
   "outputs": [],
   "source": [
    "features = ['M46BPDXX_DISTANCE_D_SEAT_TO_FG','M47BPDXX_DISTANCE_DE_TO_F_SEAT','M48BPDXX_DISTANCE_DE_TO_G_SEAT',\n",
    "                    'PERP_OF_AXIS_DAT_FG_TO_AXIS_DAT_DE_DAT_B_TWO_COAXIAL_HOLES',\"'Backlash Result'\",\"'Single Flank Tester Deviation J for Best Position'\",\n",
    "                 \"'SFT 1st Mesh Harmonic Drive Side Pos 1 Val (µrad)'\",\"'SFT 1st Mesh Harmonic Coast Side Pos 1 Val (µrad)'\",\n",
    "                 \"'Single Flank Tester Spiral Angle Pinion'\",\"'Single Flank Tester Spiral Angle Ring Gear'\",\n",
    "                \"'Backlash Audit Average Reading'\",\"'Diff Shim Gage Pinion Side Verifier Measurement'\",\n",
    "                \"'Diff Shim Gage Ring Side Verifier Measurement'\",\"'Pinion Torque to Rotate Audit (PTR - without diff case)'\",\n",
    "                \"'Pinion Position'\",\"'Pinion Head dist real'\",\"'Lower Diff Bearing Press Distance'\",\n",
    "                \"'Upper Diff Bearing Press Distance'\",\"'Ring Gear Press Distance'\",\"'Pinion Head Bearing Cup Press Distance'\",\n",
    "                \"'Pinion Tail Bearing Cup Press Distance'\"]"
   ]
  },
  {
   "cell_type": "markdown",
   "metadata": {},
   "source": [
    "# Create profiling report for Univariate and Interactions analysis"
   ]
  },
  {
   "cell_type": "code",
   "execution_count": 49,
   "metadata": {},
   "outputs": [
    {
     "data": {
      "application/vnd.jupyter.widget-view+json": {
       "model_id": "33d5f76b669d4cd3800827b323d5837f",
       "version_major": 2,
       "version_minor": 0
      },
      "text/plain": [
       "HBox(children=(FloatProgress(value=0.0, description='Summarize dataset', max=36.0, style=ProgressStyle(descrip…"
      ]
     },
     "metadata": {},
     "output_type": "display_data"
    },
    {
     "name": "stdout",
     "output_type": "stream",
     "text": [
      "\n"
     ]
    },
    {
     "data": {
      "application/vnd.jupyter.widget-view+json": {
       "model_id": "27ddca39c8f640f986ba18b2ae816d17",
       "version_major": 2,
       "version_minor": 0
      },
      "text/plain": [
       "HBox(children=(FloatProgress(value=0.0, description='Generate report structure', max=1.0, style=ProgressStyle(…"
      ]
     },
     "metadata": {},
     "output_type": "display_data"
    },
    {
     "name": "stdout",
     "output_type": "stream",
     "text": [
      "\n"
     ]
    },
    {
     "data": {
      "application/vnd.jupyter.widget-view+json": {
       "model_id": "fbba780bf6db4be8b4c22eed135e95bc",
       "version_major": 2,
       "version_minor": 0
      },
      "text/plain": [
       "HBox(children=(FloatProgress(value=0.0, description='Render HTML', max=1.0, style=ProgressStyle(description_wi…"
      ]
     },
     "metadata": {},
     "output_type": "display_data"
    },
    {
     "name": "stdout",
     "output_type": "stream",
     "text": [
      "\n"
     ]
    },
    {
     "data": {
      "application/vnd.jupyter.widget-view+json": {
       "model_id": "bc911c3f418d4260bd649a6c2af7fd7d",
       "version_major": 2,
       "version_minor": 0
      },
      "text/plain": [
       "HBox(children=(FloatProgress(value=0.0, description='Export report to file', max=1.0, style=ProgressStyle(desc…"
      ]
     },
     "metadata": {},
     "output_type": "display_data"
    },
    {
     "name": "stdout",
     "output_type": "stream",
     "text": [
      "\n"
     ]
    },
    {
     "data": {
      "text/plain": [
       "'STATUS_ENC'"
      ]
     },
     "execution_count": 49,
     "metadata": {},
     "output_type": "execute_result"
    }
   ],
   "source": [
    "# import pandas_profiling\n",
    "features.append(\"STATUS_ENC\")\n",
    "from pandas_profiling import ProfileReport\n",
    "prof = ProfileReport(df_model[features])\n",
    "prof.to_file(output_file='84833854_profile_report.html')\n",
    "features.pop(len(features)-1)\n",
    "# df.profile_report()"
   ]
  },
  {
   "cell_type": "markdown",
   "metadata": {},
   "source": [
    "# Boxplot and Population distribution for Continuous variables"
   ]
  },
  {
   "cell_type": "code",
   "execution_count": 70,
   "metadata": {},
   "outputs": [
    {
     "data": {
      "image/png": "[encoded data removed]",
      "text/plain": [
       "<Figure size 432x288 with 1 Axes>"
      ]
     },
     "metadata": {
      "needs_background": "light"
     },
     "output_type": "display_data"
    }
   ],
   "source": [
    "\n",
    "# sns.boxplot(x=\"STATUS\",y=\"'Ring Gear Press Distance'\",data = df_model)\n",
    "# plt.show()\n",
    "\n",
    "sns.boxplot(x=\"STATUS\",y=\"'Pinion Torque to Rotate Audit (PTR - without diff case)'\",data = df_model)\n",
    "plt.show()"
   ]
  },
  {
   "cell_type": "code",
   "execution_count": 89,
   "metadata": {},
   "outputs": [
    {
     "name": "stderr",
     "output_type": "stream",
     "text": [
      "C:\\Users\\aman.khatri91425\\AppData\\Local\\Continuum\\anaconda3\\lib\\site-packages\\seaborn\\axisgrid.py:316: UserWarning: The `size` parameter has been renamed to `height`; please update your code.\n",
      "  warnings.warn(msg, UserWarning)\n",
      "C:\\Users\\aman.khatri91425\\AppData\\Local\\Continuum\\anaconda3\\lib\\site-packages\\seaborn\\distributions.py:2551: FutureWarning: `distplot` is a deprecated function and will be removed in a future version. Please adapt your code to use either `displot` (a figure-level function with similar flexibility) or `histplot` (an axes-level function for histograms).\n",
      "  warnings.warn(msg, FutureWarning)\n",
      "C:\\Users\\aman.khatri91425\\AppData\\Local\\Continuum\\anaconda3\\lib\\site-packages\\seaborn\\distributions.py:2551: FutureWarning: `distplot` is a deprecated function and will be removed in a future version. Please adapt your code to use either `displot` (a figure-level function with similar flexibility) or `histplot` (an axes-level function for histograms).\n",
      "  warnings.warn(msg, FutureWarning)\n"
     ]
    },
    {
     "data": {
      "image/png": "[encoded data removed]",
      "text/plain": [
       "<Figure size 765.25x720 with 1 Axes>"
      ]
     },
     "metadata": {
      "needs_background": "light"
     },
     "output_type": "display_data"
    }
   ],
   "source": [
    "sns.FacetGrid(df_model, hue=\"STATUS\", size = 10).map(sns.distplot,\"'Pinion Torque to Rotate Audit (PTR - without diff case)'\").add_legend()\n",
    "# plt.xlim(100, 200)\n",
    "plt.show()"
   ]
  },
  {
   "cell_type": "code",
   "execution_count": null,
   "metadata": {},
   "outputs": [],
   "source": []
  },
  {
   "cell_type": "code",
   "execution_count": null,
   "metadata": {},
   "outputs": [],
   "source": []
  },
  {
   "cell_type": "code",
   "execution_count": null,
   "metadata": {},
   "outputs": [],
   "source": []
  }
 ],
 "metadata": {
  "kernelspec": {
   "display_name": "Python 3",
   "language": "python",
   "name": "python3"
  },
  "language_info": {
   "codemirror_mode": {
    "name": "ipython",
    "version": 3
   },
   "file_extension": ".py",
   "mimetype": "text/x-python",
   "name": "python",
   "nbconvert_exporter": "python",
   "pygments_lexer": "ipython3",
   "version": "3.7.3"
  }
 },
 "nbformat": 4,
 "nbformat_minor": 2
}
