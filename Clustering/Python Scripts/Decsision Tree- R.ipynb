{
 "cells": [
  {
   "cell_type": "code",
   "execution_count": 21,
   "metadata": {},
   "outputs": [],
   "source": [
    "library(rpart)\n",
    "library(rpart.plot)\n",
    "library(dplyr)"
   ]
  },
  {
   "cell_type": "code",
   "execution_count": 22,
   "metadata": {},
   "outputs": [],
   "source": [
    "df = read.csv(\"C:\\\\Users\\\\aman.khatri91425\\\\Desktop\\\\HomeCredit\\\\AAM\\\\Clustering\\\\Data Files\\\\NVHGearsBLCarrier_missing_treated.csv\")"
   ]
  },
  {
   "cell_type": "code",
   "execution_count": 24,
   "metadata": {},
   "outputs": [
    {
     "data": {
      "text/html": [
       "<ol class=list-inline>\n",
       "\t<li>101606</li>\n",
       "\t<li>46</li>\n",
       "</ol>\n"
      ],
      "text/latex": [
       "\\begin{enumerate*}\n",
       "\\item 101606\n",
       "\\item 46\n",
       "\\end{enumerate*}\n"
      ],
      "text/markdown": [
       "1. 101606\n",
       "2. 46\n",
       "\n",
       "\n"
      ],
      "text/plain": [
       "[1] 101606     46"
      ]
     },
     "metadata": {},
     "output_type": "display_data"
    }
   ],
   "source": [
    "dim(df)"
   ]
  },
  {
   "cell_type": "code",
   "execution_count": 25,
   "metadata": {},
   "outputs": [],
   "source": [
    "colnames(df) = c('X','SITENAME', 'PLANTNAME', 'LINENAME', 'STATIONNAME', 'LAPPER_STATION',\n",
    "       'BACKLASH_STATION', 'OP110_STN', 'OP100_STN', 'REJECT_CODE', 'TOPPART',\n",
    "       'STATUS', 'PROD_TIMESTAMP', 'PROD_DATE', 'TOPLEVELSERIALNUMBER',\n",
    "       'CUSTOMER_PART_NUMBER', 'CARRIER_OP20_STN',\n",
    "       \"'NVH Hyp Drive Fnd Order Peak Torsional Accel'\",\n",
    "       \"'NVH Hyp Coast Fnd Order Peak Torsional Accel'\",\n",
    "       \"'RH Slide To Full Depth Posn'\", \"'LH Slide To Full Depth Posn'\",\n",
    "       \"'Pinion Slide To Full Depth Posn'\",\n",
    "       \"'Total Torque to Rotate  (TTtR - with case fully preloaded)'\",\n",
    "       \"'Increase in Torque to Rotate over Measured PTR'\",\n",
    "       \"'Backlash Audit Average Reading'\",\n",
    "       \"'Diff Shim Gage Pinion Side Verifier Measurement'\",\n",
    "       \"'Diff Shim Gage Ring Side Verifier Measurement'\",\n",
    "       \"'Pinion Torque to Rotate Audit (PTR - without diff case)'\",\n",
    "       \"'Pinion Position'\", \"'Pinion Head dist real'\",\n",
    "       \"'Lower Diff Bearing Press Distance'\",\n",
    "       \"'Upper Diff Bearing Press Distance'\", \"'Ring Gear Press Distance'\",\n",
    "       \"'Pinion Head Bearing Cup Press Distance'\",\n",
    "       \"'Pinion Tail Bearing Cup Press Distance'\", \"'Backlash Result'\",\n",
    "       \"'Single Flank Tester Deviation J for Best Position'\",\n",
    "       \"'SFT 1st Mesh Harmonic Drive Side Pos 1 Val (µrad)'\",\n",
    "       \"'SFT 1st Mesh Harmonic Coast Side Pos 1 Val (µrad)'\",\n",
    "       \"'Single Flank Tester Spiral Angle Pinion'\",\n",
    "       \"'Single Flank Tester Spiral Angle Ring Gear'\",\n",
    "       'M46BPDXX_DISTANCE_D_SEAT_TO_FG', 'M47BPDXX_DISTANCE_DE_TO_F_SEAT',\n",
    "       'M48BPDXX_DISTANCE_DE_TO_G_SEAT',\n",
    "       'PERP_OF_AXIS_DAT_FG_TO_AXIS_DAT_DE_DAT_B_TWO_COAXIAL_HOLES',\n",
    "       'STATUS_ENC')"
   ]
  },
  {
   "cell_type": "code",
   "execution_count": 27,
   "metadata": {},
   "outputs": [],
   "source": [
    "df = df[df$TOPPART==84833854,]"
   ]
  },
  {
   "cell_type": "code",
   "execution_count": 29,
   "metadata": {},
   "outputs": [],
   "source": [
    "features_carrier = c('M46BPDXX_DISTANCE_D_SEAT_TO_FG','M47BPDXX_DISTANCE_DE_TO_F_SEAT','M48BPDXX_DISTANCE_DE_TO_G_SEAT',\n",
    "                    'PERP_OF_AXIS_DAT_FG_TO_AXIS_DAT_DE_DAT_B_TWO_COAXIAL_HOLES','STATUS_ENC')\n",
    "features_gear = c(\"'Backlash Result'\",\"'Single Flank Tester Deviation J for Best Position'\",\n",
    "                 \"'SFT 1st Mesh Harmonic Drive Side Pos 1 Val (µrad)'\",\"'SFT 1st Mesh Harmonic Coast Side Pos 1 Val (µrad)'\",\n",
    "                 \"'Single Flank Tester Spiral Angle Pinion'\",\"'Single Flank Tester Spiral Angle Ring Gear'\",'STATUS_ENC')\n",
    "features_backlash = c('M46BPDXX_DISTANCE_D_SEAT_TO_FG','M47BPDXX_DISTANCE_DE_TO_F_SEAT','M48BPDXX_DISTANCE_DE_TO_G_SEAT',\n",
    "                    'PERP_OF_AXIS_DAT_FG_TO_AXIS_DAT_DE_DAT_B_TWO_COAXIAL_HOLES',\"'Backlash Result'\",\"'Single Flank Tester Deviation J for Best Position'\",\n",
    "                 \"'SFT 1st Mesh Harmonic Drive Side Pos 1 Val (µrad)'\",\"'SFT 1st Mesh Harmonic Coast Side Pos 1 Val (µrad)'\",\n",
    "                 \"'Single Flank Tester Spiral Angle Pinion'\",\"'Single Flank Tester Spiral Angle Ring Gear'\",\n",
    "                \"'Backlash Audit Average Reading'\",\"'Diff Shim Gage Pinion Side Verifier Measurement'\",\n",
    "                \"'Diff Shim Gage Ring Side Verifier Measurement'\",\"'Pinion Torque to Rotate Audit (PTR - without diff case)'\",\n",
    "                \"'Pinion Position'\",\"'Pinion Head dist real'\",\"'Lower Diff Bearing Press Distance'\",\n",
    "                \"'Upper Diff Bearing Press Distance'\",\"'Ring Gear Press Distance'\",\"'Pinion Head Bearing Cup Press Distance'\",\n",
    "                \"'Pinion Tail Bearing Cup Press Distance'\",'STATUS_ENC')"
   ]
  },
  {
   "cell_type": "code",
   "execution_count": 30,
   "metadata": {},
   "outputs": [
    {
     "data": {
      "image/png": "[encoded data removed]",
      "text/plain": [
       "plot without title"
      ]
     },
     "metadata": {},
     "output_type": "display_data"
    }
   ],
   "source": [
    "tree <- rpart(STATUS_ENC~., data=df[,features_backlash], control = list(maxdepth = 3),model = TRUE, cp=0)\n",
    "# Visualize the decision tree with rpart.plot\n",
    "rpart.plot(tree, box.palette=\"RdBu\", shadow.col=\"gray\", tweak = 1)"
   ]
  },
  {
   "cell_type": "code",
   "execution_count": 31,
   "metadata": {
    "scrolled": true
   },
   "outputs": [
    {
     "data": {
      "text/plain": [
       "n= 35283 \n",
       "\n",
       "node), split, n, deviance, yval\n",
       "      * denotes terminal node\n",
       "\n",
       " 1) root 35283 199.854900 0.005696794  \n",
       "   2) 'Ring Gear Press Distance'>=110.875 34798 181.048100 0.005230186  \n",
       "     4) PERP_OF_AXIS_DAT_FG_TO_AXIS_DAT_DE_DAT_B_TWO_COAXIAL_HOLES< 0.10375 34758 178.078200 0.005149894  \n",
       "       8) 'Pinion Torque to Rotate Audit (PTR - without diff case)'>=3.583334 10523  20.958090 0.001995629 *\n",
       "       9) 'Pinion Torque to Rotate Audit (PTR - without diff case)'< 3.583334 24235 156.969900 0.006519497 *\n",
       "     5) PERP_OF_AXIS_DAT_FG_TO_AXIS_DAT_DE_DAT_B_TWO_COAXIAL_HOLES>=0.10375 40   2.775000 0.075000000  \n",
       "      10) M46BPDXX_DISTANCE_D_SEAT_TO_FG< 158.513 29   0.000000 0.000000000 *\n",
       "      11) M46BPDXX_DISTANCE_D_SEAT_TO_FG>=158.513 11   2.181818 0.272727300 *\n",
       "   3) 'Ring Gear Press Distance'< 110.875 485  18.255670 0.039175260  \n",
       "     6) M46BPDXX_DISTANCE_D_SEAT_TO_FG< 158.4898 124   0.000000 0.000000000 *\n",
       "     7) M46BPDXX_DISTANCE_D_SEAT_TO_FG>=158.4898 361  18.000000 0.052631580  \n",
       "      14) 'Pinion Torque to Rotate Audit (PTR - without diff case)'>=3.166666 173   3.907514 0.023121390 *\n",
       "      15) 'Pinion Torque to Rotate Audit (PTR - without diff case)'< 3.166666 188  13.803190 0.079787230 *"
      ]
     },
     "metadata": {},
     "output_type": "display_data"
    }
   ],
   "source": [
    "tree"
   ]
  },
  {
   "cell_type": "code",
   "execution_count": 86,
   "metadata": {},
   "outputs": [],
   "source": [
    "list.rules.rpart <- function(model)\n",
    "{\n",
    "  if (!inherits(model, \"rpart\")) stop(\"Not a legitimate rpart tree\")\n",
    "  #\n",
    "  # Get some information.\n",
    "  #\n",
    "  frm     <- model$frame\n",
    "  names   <- row.names(frm)\n",
    "  ylevels <- attr(model, \"ylevels\")\n",
    "  ds.size <- model$frame[1,]$n\n",
    "  #\n",
    "  # Print each leaf node as a rule.\n",
    "  #\n",
    "  for (i in 1:nrow(frm))\n",
    "  {\n",
    "    {\n",
    "      # The following [,5] is hardwired - needs work!\n",
    "      cat(\"\\n\")\n",
    "      cat(sprintf(\" Rule number: %s \", names[i]))\n",
    "      cat(sprintf(\"[yval=%s cover=%d (%.0f%%) prob=%0.2f]\\n\",\n",
    "                  ylevels[frm[i,]$yval], frm[i,]$n,\n",
    "                  round(100*frm[i,]$n/ds.size), frm[i,]$yval2[,5]))\n",
    "      pth <- path.rpart(model, nodes=as.numeric(names[i]), print.it=FALSE)\n",
    "      cat(sprintf(\"   %s\\n\", unlist(pth)[-1]), sep=\"\")\n",
    "    }\n",
    "  }\n",
    "}"
   ]
  },
  {
   "cell_type": "code",
   "execution_count": 90,
   "metadata": {},
   "outputs": [
    {
     "ename": "ERROR",
     "evalue": "Error in parse(text = x, srcfile = src): <text>:1:24: unexpected ':'\n1: list.rules.rpart(tree)[:\n                           ^\n",
     "output_type": "error",
     "traceback": [
      "Error in parse(text = x, srcfile = src): <text>:1:24: unexpected ':'\n1: list.rules.rpart(tree)[:\n                           ^\nTraceback:\n"
     ]
    }
   ],
   "source": [
    "list.rules.rpart(tree)"
   ]
  },
  {
   "cell_type": "code",
   "execution_count": 84,
   "metadata": {},
   "outputs": [
    {
     "data": {
      "text/html": [
       "<table>\n",
       "<thead><tr><th></th><th scope=col>var</th><th scope=col>n</th><th scope=col>wt</th><th scope=col>dev</th><th scope=col>yval</th><th scope=col>complexity</th><th scope=col>ncompete</th><th scope=col>nsurrogate</th></tr></thead>\n",
       "<tbody>\n",
       "\t<tr><th scope=row>1</th><td>'Pinion Head dist real'                                   </td><td>101606                                                    </td><td>101606                                                    </td><td>47.44455156                                               </td><td>0.022865193                                               </td><td>0.5555899590                                              </td><td>4                                                         </td><td>5                                                         </td></tr>\n",
       "\t<tr><th scope=row>2</th><td>M47BPDXX_DISTANCE_DE_TO_F_SEAT                            </td><td> 62082                                                    </td><td> 62082                                                    </td><td> 1.66574064                                               </td><td>0.010013561                                               </td><td>0.0100342098                                              </td><td>4                                                         </td><td>3                                                         </td></tr>\n",
       "\t<tr><th scope=row>4</th><td>M48BPDXX_DISTANCE_DE_TO_G_SEAT                            </td><td> 56693                                                    </td><td> 56693                                                    </td><td> 0.86074213                                               </td><td>0.009159790                                               </td><td>0.0012185906                                              </td><td>4                                                         </td><td>5                                                         </td></tr>\n",
       "\t<tr><th scope=row>8</th><td><span style=white-space:pre-wrap>&lt;leaf&gt;                                                    </span></td><td> 30155                                                                                                  </td><td> 30155                                                                                                  </td><td> 0.53618325                                                                                             </td><td>0.008212437                                                                                             </td><td>0.0000000000                                                                                            </td><td>0                                                                                                       </td><td>0                                                                                                       </td></tr>\n",
       "\t<tr><th scope=row>9</th><td><span style=white-space:pre-wrap>&lt;leaf&gt;                                                    </span></td><td> 26538                                                                                                  </td><td> 26538                                                                                                  </td><td> 0.26674340                                                                                             </td><td>0.010236263                                                                                             </td><td>0.0000000000                                                                                            </td><td>0                                                                                                       </td><td>0                                                                                                       </td></tr>\n",
       "\t<tr><th scope=row>5</th><td>M47BPDXX_DISTANCE_DE_TO_F_SEAT                            </td><td>  5389                                                    </td><td>  5389                                                    </td><td> 0.32892992                                               </td><td>0.018995344                                               </td><td>0.0001830664                                              </td><td>4                                                         </td><td>5                                                         </td></tr>\n",
       "\t<tr><th scope=row>10</th><td><span style=white-space:pre-wrap>&lt;leaf&gt;                                                    </span></td><td><span style=white-space:pre-wrap>   451</span>                                                          </td><td><span style=white-space:pre-wrap>   451</span>                                                          </td><td> 0.03419509                                                                                             </td><td>0.014794557                                                                                             </td><td>0.0000000000                                                                                            </td><td>0                                                                                                       </td><td>0                                                                                                       </td></tr>\n",
       "\t<tr><th scope=row>11</th><td><span style=white-space:pre-wrap>&lt;leaf&gt;                                                    </span></td><td><span style=white-space:pre-wrap>  4938</span>                                                          </td><td><span style=white-space:pre-wrap>  4938</span>                                                          </td><td> 0.28604933                                                                                             </td><td>0.019379012                                                                                             </td><td>0.0000000000                                                                                            </td><td>0                                                                                                       </td><td>0                                                                                                       </td></tr>\n",
       "\t<tr><th scope=row>3</th><td>PERP_OF_AXIS_DAT_FG_TO_AXIS_DAT_DE_DAT_B_TWO_COAXIAL_HOLES</td><td> 39524                                                    </td><td> 39524                                                    </td><td>19.41909446                                               </td><td>0.043051789                                               </td><td>0.0109173605                                              </td><td>4                                                         </td><td>5                                                         </td></tr>\n",
       "\t<tr><th scope=row>6</th><td>M48BPDXX_DISTANCE_DE_TO_G_SEAT                            </td><td> 13544                                                    </td><td> 13544                                                    </td><td> 5.79285052                                               </td><td>0.038037982                                               </td><td>0.0083499597                                              </td><td>4                                                         </td><td>5                                                         </td></tr>\n",
       "\t<tr><th scope=row>12</th><td><span style=white-space:pre-wrap>&lt;leaf&gt;                                                    </span></td><td><span style=white-space:pre-wrap>  9112</span>                                                          </td><td><span style=white-space:pre-wrap>  9112</span>                                                          </td><td> 3.25797451                                                                                             </td><td>0.034266127                                                                                             </td><td>0.0000000000                                                                                            </td><td>0                                                                                                       </td><td>0                                                                                                       </td></tr>\n",
       "\t<tr><th scope=row>13</th><td><span style=white-space:pre-wrap>&lt;leaf&gt;                                                    </span></td><td><span style=white-space:pre-wrap>  4432</span>                                                          </td><td><span style=white-space:pre-wrap>  4432</span>                                                          </td><td> 2.13871592                                                                                             </td><td>0.045792751                                                                                             </td><td>0.0000000000                                                                                            </td><td>0                                                                                                       </td><td>0                                                                                                       </td></tr>\n",
       "\t<tr><th scope=row>7</th><td>M48BPDXX_DISTANCE_DE_TO_G_SEAT                            </td><td> 25980                                                    </td><td> 25980                                                    </td><td>13.10827467                                               </td><td>0.045665608                                               </td><td>0.0025331232                                              </td><td>4                                                         </td><td>3                                                         </td></tr>\n",
       "\t<tr><th scope=row>14</th><td><span style=white-space:pre-wrap>&lt;leaf&gt;                                                    </span></td><td> 20251                                                                                                  </td><td> 20251                                                                                                  </td><td> 9.69175977                                                                                             </td><td>0.044521629                                                                                             </td><td>0.0000000000                                                                                            </td><td>0                                                                                                       </td><td>0                                                                                                       </td></tr>\n",
       "\t<tr><th scope=row>15</th><td><span style=white-space:pre-wrap>&lt;leaf&gt;                                                    </span></td><td><span style=white-space:pre-wrap>  5729</span>                                                          </td><td><span style=white-space:pre-wrap>  5729</span>                                                          </td><td> 3.29633200                                                                                             </td><td>0.049709370                                                                                             </td><td>0.0000000000                                                                                            </td><td>0                                                                                                       </td><td>0                                                                                                       </td></tr>\n",
       "</tbody>\n",
       "</table>\n"
      ],
      "text/latex": [
       "\\begin{tabular}{r|llllllll}\n",
       "  & var & n & wt & dev & yval & complexity & ncompete & nsurrogate\\\\\n",
       "\\hline\n",
       "\t1 & 'Pinion Head dist real'                                    & 101606                                                     & 101606                                                     & 47.44455156                                                & 0.022865193                                                & 0.5555899590                                               & 4                                                          & 5                                                         \\\\\n",
       "\t2 & M47BPDXX\\_DISTANCE\\_DE\\_TO\\_F\\_SEAT                             &  62082                                                               &  62082                                                               &  1.66574064                                                          & 0.010013561                                                          & 0.0100342098                                                         & 4                                                                    & 3                                                                   \\\\\n",
       "\t4 & M48BPDXX\\_DISTANCE\\_DE\\_TO\\_G\\_SEAT                             &  56693                                                               &  56693                                                               &  0.86074213                                                          & 0.009159790                                                          & 0.0012185906                                                         & 4                                                                    & 5                                                                   \\\\\n",
       "\t8 & <leaf>                                                     &  30155                                                     &  30155                                                     &  0.53618325                                                & 0.008212437                                                & 0.0000000000                                               & 0                                                          & 0                                                         \\\\\n",
       "\t9 & <leaf>                                                     &  26538                                                     &  26538                                                     &  0.26674340                                                & 0.010236263                                                & 0.0000000000                                               & 0                                                          & 0                                                         \\\\\n",
       "\t5 & M47BPDXX\\_DISTANCE\\_DE\\_TO\\_F\\_SEAT                             &   5389                                                               &   5389                                                               &  0.32892992                                                          & 0.018995344                                                          & 0.0001830664                                                         & 4                                                                    & 5                                                                   \\\\\n",
       "\t10 & <leaf>                                                     &    451                                                     &    451                                                     &  0.03419509                                                & 0.014794557                                                & 0.0000000000                                               & 0                                                          & 0                                                         \\\\\n",
       "\t11 & <leaf>                                                     &   4938                                                     &   4938                                                     &  0.28604933                                                & 0.019379012                                                & 0.0000000000                                               & 0                                                          & 0                                                         \\\\\n",
       "\t3 & PERP\\_OF\\_AXIS\\_DAT\\_FG\\_TO\\_AXIS\\_DAT\\_DE\\_DAT\\_B\\_TWO\\_COAXIAL\\_HOLES &  39524                                                                               &  39524                                                                               & 19.41909446                                                                          & 0.043051789                                                                          & 0.0109173605                                                                         & 4                                                                                    & 5                                                                                   \\\\\n",
       "\t6 & M48BPDXX\\_DISTANCE\\_DE\\_TO\\_G\\_SEAT                             &  13544                                                               &  13544                                                               &  5.79285052                                                          & 0.038037982                                                          & 0.0083499597                                                         & 4                                                                    & 5                                                                   \\\\\n",
       "\t12 & <leaf>                                                     &   9112                                                     &   9112                                                     &  3.25797451                                                & 0.034266127                                                & 0.0000000000                                               & 0                                                          & 0                                                         \\\\\n",
       "\t13 & <leaf>                                                     &   4432                                                     &   4432                                                     &  2.13871592                                                & 0.045792751                                                & 0.0000000000                                               & 0                                                          & 0                                                         \\\\\n",
       "\t7 & M48BPDXX\\_DISTANCE\\_DE\\_TO\\_G\\_SEAT                             &  25980                                                               &  25980                                                               & 13.10827467                                                          & 0.045665608                                                          & 0.0025331232                                                         & 4                                                                    & 3                                                                   \\\\\n",
       "\t14 & <leaf>                                                     &  20251                                                     &  20251                                                     &  9.69175977                                                & 0.044521629                                                & 0.0000000000                                               & 0                                                          & 0                                                         \\\\\n",
       "\t15 & <leaf>                                                     &   5729                                                     &   5729                                                     &  3.29633200                                                & 0.049709370                                                & 0.0000000000                                               & 0                                                          & 0                                                         \\\\\n",
       "\\end{tabular}\n"
      ],
      "text/markdown": [
       "\n",
       "| <!--/--> | var | n | wt | dev | yval | complexity | ncompete | nsurrogate |\n",
       "|---|---|---|---|---|---|---|---|---|\n",
       "| 1 | 'Pinion Head dist real'                                    | 101606                                                     | 101606                                                     | 47.44455156                                                | 0.022865193                                                | 0.5555899590                                               | 4                                                          | 5                                                          |\n",
       "| 2 | M47BPDXX_DISTANCE_DE_TO_F_SEAT                             |  62082                                                     |  62082                                                     |  1.66574064                                                | 0.010013561                                                | 0.0100342098                                               | 4                                                          | 3                                                          |\n",
       "| 4 | M48BPDXX_DISTANCE_DE_TO_G_SEAT                             |  56693                                                     |  56693                                                     |  0.86074213                                                | 0.009159790                                                | 0.0012185906                                               | 4                                                          | 5                                                          |\n",
       "| 8 | <leaf>                                                     |  30155                                                     |  30155                                                     |  0.53618325                                                | 0.008212437                                                | 0.0000000000                                               | 0                                                          | 0                                                          |\n",
       "| 9 | <leaf>                                                     |  26538                                                     |  26538                                                     |  0.26674340                                                | 0.010236263                                                | 0.0000000000                                               | 0                                                          | 0                                                          |\n",
       "| 5 | M47BPDXX_DISTANCE_DE_TO_F_SEAT                             |   5389                                                     |   5389                                                     |  0.32892992                                                | 0.018995344                                                | 0.0001830664                                               | 4                                                          | 5                                                          |\n",
       "| 10 | <leaf>                                                     |    451                                                     |    451                                                     |  0.03419509                                                | 0.014794557                                                | 0.0000000000                                               | 0                                                          | 0                                                          |\n",
       "| 11 | <leaf>                                                     |   4938                                                     |   4938                                                     |  0.28604933                                                | 0.019379012                                                | 0.0000000000                                               | 0                                                          | 0                                                          |\n",
       "| 3 | PERP_OF_AXIS_DAT_FG_TO_AXIS_DAT_DE_DAT_B_TWO_COAXIAL_HOLES |  39524                                                     |  39524                                                     | 19.41909446                                                | 0.043051789                                                | 0.0109173605                                               | 4                                                          | 5                                                          |\n",
       "| 6 | M48BPDXX_DISTANCE_DE_TO_G_SEAT                             |  13544                                                     |  13544                                                     |  5.79285052                                                | 0.038037982                                                | 0.0083499597                                               | 4                                                          | 5                                                          |\n",
       "| 12 | <leaf>                                                     |   9112                                                     |   9112                                                     |  3.25797451                                                | 0.034266127                                                | 0.0000000000                                               | 0                                                          | 0                                                          |\n",
       "| 13 | <leaf>                                                     |   4432                                                     |   4432                                                     |  2.13871592                                                | 0.045792751                                                | 0.0000000000                                               | 0                                                          | 0                                                          |\n",
       "| 7 | M48BPDXX_DISTANCE_DE_TO_G_SEAT                             |  25980                                                     |  25980                                                     | 13.10827467                                                | 0.045665608                                                | 0.0025331232                                               | 4                                                          | 3                                                          |\n",
       "| 14 | <leaf>                                                     |  20251                                                     |  20251                                                     |  9.69175977                                                | 0.044521629                                                | 0.0000000000                                               | 0                                                          | 0                                                          |\n",
       "| 15 | <leaf>                                                     |   5729                                                     |   5729                                                     |  3.29633200                                                | 0.049709370                                                | 0.0000000000                                               | 0                                                          | 0                                                          |\n",
       "\n"
      ],
      "text/plain": [
       "   var                                                        n      wt    \n",
       "1  'Pinion Head dist real'                                    101606 101606\n",
       "2  M47BPDXX_DISTANCE_DE_TO_F_SEAT                              62082  62082\n",
       "4  M48BPDXX_DISTANCE_DE_TO_G_SEAT                              56693  56693\n",
       "8  <leaf>                                                      30155  30155\n",
       "9  <leaf>                                                      26538  26538\n",
       "5  M47BPDXX_DISTANCE_DE_TO_F_SEAT                               5389   5389\n",
       "10 <leaf>                                                        451    451\n",
       "11 <leaf>                                                       4938   4938\n",
       "3  PERP_OF_AXIS_DAT_FG_TO_AXIS_DAT_DE_DAT_B_TWO_COAXIAL_HOLES  39524  39524\n",
       "6  M48BPDXX_DISTANCE_DE_TO_G_SEAT                              13544  13544\n",
       "12 <leaf>                                                       9112   9112\n",
       "13 <leaf>                                                       4432   4432\n",
       "7  M48BPDXX_DISTANCE_DE_TO_G_SEAT                              25980  25980\n",
       "14 <leaf>                                                      20251  20251\n",
       "15 <leaf>                                                       5729   5729\n",
       "   dev         yval        complexity   ncompete nsurrogate\n",
       "1  47.44455156 0.022865193 0.5555899590 4        5         \n",
       "2   1.66574064 0.010013561 0.0100342098 4        3         \n",
       "4   0.86074213 0.009159790 0.0012185906 4        5         \n",
       "8   0.53618325 0.008212437 0.0000000000 0        0         \n",
       "9   0.26674340 0.010236263 0.0000000000 0        0         \n",
       "5   0.32892992 0.018995344 0.0001830664 4        5         \n",
       "10  0.03419509 0.014794557 0.0000000000 0        0         \n",
       "11  0.28604933 0.019379012 0.0000000000 0        0         \n",
       "3  19.41909446 0.043051789 0.0109173605 4        5         \n",
       "6   5.79285052 0.038037982 0.0083499597 4        5         \n",
       "12  3.25797451 0.034266127 0.0000000000 0        0         \n",
       "13  2.13871592 0.045792751 0.0000000000 0        0         \n",
       "7  13.10827467 0.045665608 0.0025331232 4        3         \n",
       "14  9.69175977 0.044521629 0.0000000000 0        0         \n",
       "15  3.29633200 0.049709370 0.0000000000 0        0         "
      ]
     },
     "metadata": {},
     "output_type": "display_data"
    }
   ],
   "source": [
    "tree$frame"
   ]
  },
  {
   "cell_type": "code",
   "execution_count": 85,
   "metadata": {},
   "outputs": [
    {
     "data": {
      "text/plain": [
       "NULL"
      ]
     },
     "metadata": {},
     "output_type": "display_data"
    }
   ],
   "source": [
    "attr(tree, \"ylevels\")"
   ]
  },
  {
   "cell_type": "code",
   "execution_count": 78,
   "metadata": {
    "scrolled": true
   },
   "outputs": [
    {
     "data": {
      "text/html": [
       "<table>\n",
       "<thead><tr><th></th><th scope=col>STATUS_ENC</th><th scope=col></th><th scope=col></th><th scope=col></th><th scope=col></th><th scope=col></th><th scope=col></th><th scope=col></th><th scope=col></th><th scope=col></th><th scope=col></th><th scope=col></th><th scope=col></th><th scope=col></th><th scope=col></th><th scope=col></th><th scope=col></th><th scope=col></th><th scope=col></th></tr></thead>\n",
       "<tbody>\n",
       "\t<tr><th scope=row>8</th><td>0.0082                                                                                            </td><td>when                                                                                              </td><td>'Pinion Head dist real'                                                                           </td><td>&lt;                                                                                              </td><td>126                                                                                               </td><td>&amp;                                                                                             </td><td>M48BPDXX_DISTANCE_DE_TO_G_SEAT                                                                    </td><td>&lt;                                                                                              </td><td>143                                                                                               </td><td>&amp;                                                                                             </td><td>M47BPDXX_DISTANCE_DE_TO_F_SEAT                                                                    </td><td>&gt;=                                                                                             </td><td><span style=white-space:pre-wrap>   </span>                                                       </td><td><span style=white-space:pre-wrap>  </span>                                                        </td><td>139                                                                                               </td><td>                                                                                                  </td><td><span style=white-space:pre-wrap>                                                          </span></td><td><span style=white-space:pre-wrap>  </span>                                                        </td><td><span style=white-space:pre-wrap>   </span>                                                       </td></tr>\n",
       "\t<tr><th scope=row>9</th><td>0.0102                                                                                            </td><td>when                                                                                              </td><td>'Pinion Head dist real'                                                                           </td><td>&lt;                                                                                              </td><td>126                                                                                               </td><td>&amp;                                                                                             </td><td>M48BPDXX_DISTANCE_DE_TO_G_SEAT                                                                    </td><td>&gt;=                                                                                             </td><td>143                                                                                               </td><td>&amp;                                                                                             </td><td>M47BPDXX_DISTANCE_DE_TO_F_SEAT                                                                    </td><td>&gt;=                                                                                             </td><td><span style=white-space:pre-wrap>   </span>                                                       </td><td><span style=white-space:pre-wrap>  </span>                                                        </td><td>139                                                                                               </td><td>                                                                                                  </td><td><span style=white-space:pre-wrap>                                                          </span></td><td><span style=white-space:pre-wrap>  </span>                                                        </td><td><span style=white-space:pre-wrap>   </span>                                                       </td></tr>\n",
       "\t<tr><th scope=row>10</th><td>0.0148                                                                                            </td><td>when                                                                                              </td><td>'Pinion Head dist real'                                                                           </td><td>&lt;                                                                                              </td><td>126                                                                                               </td><td>                                                                                                  </td><td><span style=white-space:pre-wrap>                              </span>                            </td><td><span style=white-space:pre-wrap>  </span>                                                        </td><td><span style=white-space:pre-wrap>   </span>                                                       </td><td>&amp;                                                                                             </td><td>M47BPDXX_DISTANCE_DE_TO_F_SEAT                                                                    </td><td>&lt;                                                                                              </td><td>139                                                                                               </td><td><span style=white-space:pre-wrap>  </span>                                                        </td><td><span style=white-space:pre-wrap>   </span>                                                       </td><td>                                                                                                  </td><td><span style=white-space:pre-wrap>                                                          </span></td><td><span style=white-space:pre-wrap>  </span>                                                        </td><td><span style=white-space:pre-wrap>   </span>                                                       </td></tr>\n",
       "\t<tr><th scope=row>11</th><td>0.0194                                                                                            </td><td>when                                                                                              </td><td>'Pinion Head dist real'                                                                           </td><td>&lt;                                                                                              </td><td>126                                                                                               </td><td>                                                                                                  </td><td><span style=white-space:pre-wrap>                              </span>                            </td><td><span style=white-space:pre-wrap>  </span>                                                        </td><td><span style=white-space:pre-wrap>   </span>                                                       </td><td>&amp;                                                                                             </td><td>M47BPDXX_DISTANCE_DE_TO_F_SEAT                                                                    </td><td>is                                                                                                </td><td>139                                                                                               </td><td>to                                                                                                </td><td>139                                                                                               </td><td>                                                                                                  </td><td><span style=white-space:pre-wrap>                                                          </span></td><td><span style=white-space:pre-wrap>  </span>                                                        </td><td><span style=white-space:pre-wrap>   </span>                                                       </td></tr>\n",
       "\t<tr><th scope=row>12</th><td>0.0343                                                                </td><td>when                                                                  </td><td>'Pinion Head dist real'                                               </td><td>&gt;=                                                                 </td><td>126                                                                   </td><td>&amp;                                                                 </td><td>M48BPDXX_DISTANCE_DE_TO_G_SEAT                                        </td><td>&lt;                                                                  </td><td>142                                                                   </td><td>                                                                      </td><td><span style=white-space:pre-wrap>                              </span></td><td><span style=white-space:pre-wrap>  </span>                            </td><td><span style=white-space:pre-wrap>   </span>                           </td><td><span style=white-space:pre-wrap>  </span>                            </td><td><span style=white-space:pre-wrap>   </span>                           </td><td>&amp;                                                                 </td><td>PERP_OF_AXIS_DAT_FG_TO_AXIS_DAT_DE_DAT_B_TWO_COAXIAL_HOLES            </td><td>&gt;=                                                                 </td><td>105                                                                   </td></tr>\n",
       "\t<tr><th scope=row>14</th><td>0.0445                                                                </td><td>when                                                                  </td><td>'Pinion Head dist real'                                               </td><td>&gt;=                                                                 </td><td>126                                                                   </td><td>&amp;                                                                 </td><td>M48BPDXX_DISTANCE_DE_TO_G_SEAT                                        </td><td>&lt;                                                                  </td><td>143                                                                   </td><td>                                                                      </td><td><span style=white-space:pre-wrap>                              </span></td><td><span style=white-space:pre-wrap>  </span>                            </td><td><span style=white-space:pre-wrap>   </span>                           </td><td><span style=white-space:pre-wrap>  </span>                            </td><td><span style=white-space:pre-wrap>   </span>                           </td><td>&amp;                                                                 </td><td>PERP_OF_AXIS_DAT_FG_TO_AXIS_DAT_DE_DAT_B_TWO_COAXIAL_HOLES            </td><td>&lt;                                                                  </td><td>105                                                                   </td></tr>\n",
       "\t<tr><th scope=row>13</th><td>0.0458                                                                </td><td>when                                                                  </td><td>'Pinion Head dist real'                                               </td><td>&gt;=                                                                 </td><td>126                                                                   </td><td>&amp;                                                                 </td><td>M48BPDXX_DISTANCE_DE_TO_G_SEAT                                        </td><td>&gt;=                                                                 </td><td>142                                                                   </td><td>                                                                      </td><td><span style=white-space:pre-wrap>                              </span></td><td><span style=white-space:pre-wrap>  </span>                            </td><td><span style=white-space:pre-wrap>   </span>                           </td><td><span style=white-space:pre-wrap>  </span>                            </td><td><span style=white-space:pre-wrap>   </span>                           </td><td>&amp;                                                                 </td><td>PERP_OF_AXIS_DAT_FG_TO_AXIS_DAT_DE_DAT_B_TWO_COAXIAL_HOLES            </td><td>&gt;=                                                                 </td><td>105                                                                   </td></tr>\n",
       "\t<tr><th scope=row>15</th><td>0.0497                                                                </td><td>when                                                                  </td><td>'Pinion Head dist real'                                               </td><td>&gt;=                                                                 </td><td>126                                                                   </td><td>&amp;                                                                 </td><td>M48BPDXX_DISTANCE_DE_TO_G_SEAT                                        </td><td>&gt;=                                                                 </td><td>143                                                                   </td><td>                                                                      </td><td><span style=white-space:pre-wrap>                              </span></td><td><span style=white-space:pre-wrap>  </span>                            </td><td><span style=white-space:pre-wrap>   </span>                           </td><td><span style=white-space:pre-wrap>  </span>                            </td><td><span style=white-space:pre-wrap>   </span>                           </td><td>&amp;                                                                 </td><td>PERP_OF_AXIS_DAT_FG_TO_AXIS_DAT_DE_DAT_B_TWO_COAXIAL_HOLES            </td><td>&lt;                                                                  </td><td>105                                                                   </td></tr>\n",
       "</tbody>\n",
       "</table>\n"
      ],
      "text/latex": [
       "\\begin{tabular}{r|lllllllllllllllllll}\n",
       "  & STATUS\\_ENC &  &  &  &  &  &  &  &  &  &  &  &  &  &  &  &  &  & \\\\\n",
       "\\hline\n",
       "\t8 & 0.0082                                                     & when                                                       & 'Pinion Head dist real'                                    & <                                                          & 126                                                        & \\&                                                        & M48BPDXX\\_DISTANCE\\_DE\\_TO\\_G\\_SEAT                   & <                                                          & 143                                                        & \\&                                                        & M47BPDXX\\_DISTANCE\\_DE\\_TO\\_F\\_SEAT                   & >=                                                         &                                                            &                                                            & 139                                                        &                                                            &                                                            &                                                            &                                                           \\\\\n",
       "\t9 & 0.0102                                                     & when                                                       & 'Pinion Head dist real'                                    & <                                                          & 126                                                        & \\&                                                        & M48BPDXX\\_DISTANCE\\_DE\\_TO\\_G\\_SEAT                   & >=                                                         & 143                                                        & \\&                                                        & M47BPDXX\\_DISTANCE\\_DE\\_TO\\_F\\_SEAT                   & >=                                                         &                                                            &                                                            & 139                                                        &                                                            &                                                            &                                                            &                                                           \\\\\n",
       "\t10 & 0.0148                                                     & when                                                       & 'Pinion Head dist real'                                    & <                                                          & 126                                                        &                                                            &                                                            &                                                            &                                                            & \\&                                                        & M47BPDXX\\_DISTANCE\\_DE\\_TO\\_F\\_SEAT                   & <                                                          & 139                                                        &                                                            &                                                            &                                                            &                                                            &                                                            &                                                           \\\\\n",
       "\t11 & 0.0194                                                     & when                                                       & 'Pinion Head dist real'                                    & <                                                          & 126                                                        &                                                            &                                                            &                                                            &                                                            & \\&                                                        & M47BPDXX\\_DISTANCE\\_DE\\_TO\\_F\\_SEAT                   & is                                                         & 139                                                        & to                                                         & 139                                                        &                                                            &                                                            &                                                            &                                                           \\\\\n",
       "\t12 & 0.0343                                                                               & when                                                                                 & 'Pinion Head dist real'                                                              & >=                                                                                   & 126                                                                                  & \\&                                                                                  & M48BPDXX\\_DISTANCE\\_DE\\_TO\\_G\\_SEAT                                             & <                                                                                    & 142                                                                                  &                                                                                      &                                                                                      &                                                                                      &                                                                                      &                                                                                      &                                                                                      & \\&                                                                                  & PERP\\_OF\\_AXIS\\_DAT\\_FG\\_TO\\_AXIS\\_DAT\\_DE\\_DAT\\_B\\_TWO\\_COAXIAL\\_HOLES & >=                                                                                   & 105                                                                                 \\\\\n",
       "\t14 & 0.0445                                                                               & when                                                                                 & 'Pinion Head dist real'                                                              & >=                                                                                   & 126                                                                                  & \\&                                                                                  & M48BPDXX\\_DISTANCE\\_DE\\_TO\\_G\\_SEAT                                             & <                                                                                    & 143                                                                                  &                                                                                      &                                                                                      &                                                                                      &                                                                                      &                                                                                      &                                                                                      & \\&                                                                                  & PERP\\_OF\\_AXIS\\_DAT\\_FG\\_TO\\_AXIS\\_DAT\\_DE\\_DAT\\_B\\_TWO\\_COAXIAL\\_HOLES & <                                                                                    & 105                                                                                 \\\\\n",
       "\t13 & 0.0458                                                                               & when                                                                                 & 'Pinion Head dist real'                                                              & >=                                                                                   & 126                                                                                  & \\&                                                                                  & M48BPDXX\\_DISTANCE\\_DE\\_TO\\_G\\_SEAT                                             & >=                                                                                   & 142                                                                                  &                                                                                      &                                                                                      &                                                                                      &                                                                                      &                                                                                      &                                                                                      & \\&                                                                                  & PERP\\_OF\\_AXIS\\_DAT\\_FG\\_TO\\_AXIS\\_DAT\\_DE\\_DAT\\_B\\_TWO\\_COAXIAL\\_HOLES & >=                                                                                   & 105                                                                                 \\\\\n",
       "\t15 & 0.0497                                                                               & when                                                                                 & 'Pinion Head dist real'                                                              & >=                                                                                   & 126                                                                                  & \\&                                                                                  & M48BPDXX\\_DISTANCE\\_DE\\_TO\\_G\\_SEAT                                             & >=                                                                                   & 143                                                                                  &                                                                                      &                                                                                      &                                                                                      &                                                                                      &                                                                                      &                                                                                      & \\&                                                                                  & PERP\\_OF\\_AXIS\\_DAT\\_FG\\_TO\\_AXIS\\_DAT\\_DE\\_DAT\\_B\\_TWO\\_COAXIAL\\_HOLES & <                                                                                    & 105                                                                                 \\\\\n",
       "\\end{tabular}\n"
      ],
      "text/markdown": [
       "\n",
       "| <!--/--> | STATUS_ENC |  |  |  |  |  |  |  |  |  |  |  |  |  |  |  |  |  |  |\n",
       "|---|---|---|---|---|---|---|---|---|---|---|---|---|---|---|---|---|---|---|---|\n",
       "| 8 | 0.0082                                                     | when                                                       | 'Pinion Head dist real'                                    | <                                                          | 126                                                        | &                                                          | M48BPDXX_DISTANCE_DE_TO_G_SEAT                             | <                                                          | 143                                                        | &                                                          | M47BPDXX_DISTANCE_DE_TO_F_SEAT                             | >=                                                         |                                                            |                                                            | 139                                                        |                                                            |                                                            |                                                            |                                                            |\n",
       "| 9 | 0.0102                                                     | when                                                       | 'Pinion Head dist real'                                    | <                                                          | 126                                                        | &                                                          | M48BPDXX_DISTANCE_DE_TO_G_SEAT                             | >=                                                         | 143                                                        | &                                                          | M47BPDXX_DISTANCE_DE_TO_F_SEAT                             | >=                                                         |                                                            |                                                            | 139                                                        |                                                            |                                                            |                                                            |                                                            |\n",
       "| 10 | 0.0148                                                     | when                                                       | 'Pinion Head dist real'                                    | <                                                          | 126                                                        |                                                            |                                                            |                                                            |                                                            | &                                                          | M47BPDXX_DISTANCE_DE_TO_F_SEAT                             | <                                                          | 139                                                        |                                                            |                                                            |                                                            |                                                            |                                                            |                                                            |\n",
       "| 11 | 0.0194                                                     | when                                                       | 'Pinion Head dist real'                                    | <                                                          | 126                                                        |                                                            |                                                            |                                                            |                                                            | &                                                          | M47BPDXX_DISTANCE_DE_TO_F_SEAT                             | is                                                         | 139                                                        | to                                                         | 139                                                        |                                                            |                                                            |                                                            |                                                            |\n",
       "| 12 | 0.0343                                                     | when                                                       | 'Pinion Head dist real'                                    | >=                                                         | 126                                                        | &                                                          | M48BPDXX_DISTANCE_DE_TO_G_SEAT                             | <                                                          | 142                                                        |                                                            |                                                            |                                                            |                                                            |                                                            |                                                            | &                                                          | PERP_OF_AXIS_DAT_FG_TO_AXIS_DAT_DE_DAT_B_TWO_COAXIAL_HOLES | >=                                                         | 105                                                        |\n",
       "| 14 | 0.0445                                                     | when                                                       | 'Pinion Head dist real'                                    | >=                                                         | 126                                                        | &                                                          | M48BPDXX_DISTANCE_DE_TO_G_SEAT                             | <                                                          | 143                                                        |                                                            |                                                            |                                                            |                                                            |                                                            |                                                            | &                                                          | PERP_OF_AXIS_DAT_FG_TO_AXIS_DAT_DE_DAT_B_TWO_COAXIAL_HOLES | <                                                          | 105                                                        |\n",
       "| 13 | 0.0458                                                     | when                                                       | 'Pinion Head dist real'                                    | >=                                                         | 126                                                        | &                                                          | M48BPDXX_DISTANCE_DE_TO_G_SEAT                             | >=                                                         | 142                                                        |                                                            |                                                            |                                                            |                                                            |                                                            |                                                            | &                                                          | PERP_OF_AXIS_DAT_FG_TO_AXIS_DAT_DE_DAT_B_TWO_COAXIAL_HOLES | >=                                                         | 105                                                        |\n",
       "| 15 | 0.0497                                                     | when                                                       | 'Pinion Head dist real'                                    | >=                                                         | 126                                                        | &                                                          | M48BPDXX_DISTANCE_DE_TO_G_SEAT                             | >=                                                         | 143                                                        |                                                            |                                                            |                                                            |                                                            |                                                            |                                                            | &                                                          | PERP_OF_AXIS_DAT_FG_TO_AXIS_DAT_DE_DAT_B_TWO_COAXIAL_HOLES | <                                                          | 105                                                        |\n",
       "\n"
      ],
      "text/plain": [
       "   STATUS_ENC                                      \n",
       "8  0.0082     when 'Pinion Head dist real' <  126 &\n",
       "9  0.0102     when 'Pinion Head dist real' <  126 &\n",
       "10 0.0148     when 'Pinion Head dist real' <  126  \n",
       "11 0.0194     when 'Pinion Head dist real' <  126  \n",
       "12 0.0343     when 'Pinion Head dist real' >= 126 &\n",
       "14 0.0445     when 'Pinion Head dist real' >= 126 &\n",
       "13 0.0458     when 'Pinion Head dist real' >= 126 &\n",
       "15 0.0497     when 'Pinion Head dist real' >= 126 &\n",
       "                                                                            \n",
       "8  M48BPDXX_DISTANCE_DE_TO_G_SEAT <  143 & M47BPDXX_DISTANCE_DE_TO_F_SEAT >=\n",
       "9  M48BPDXX_DISTANCE_DE_TO_G_SEAT >= 143 & M47BPDXX_DISTANCE_DE_TO_F_SEAT >=\n",
       "10                                       & M47BPDXX_DISTANCE_DE_TO_F_SEAT < \n",
       "11                                       & M47BPDXX_DISTANCE_DE_TO_F_SEAT is\n",
       "12 M48BPDXX_DISTANCE_DE_TO_G_SEAT <  142                                    \n",
       "14 M48BPDXX_DISTANCE_DE_TO_G_SEAT <  143                                    \n",
       "13 M48BPDXX_DISTANCE_DE_TO_G_SEAT >= 142                                    \n",
       "15 M48BPDXX_DISTANCE_DE_TO_G_SEAT >= 143                                    \n",
       "                                                                             \n",
       "8         139                                                                \n",
       "9         139                                                                \n",
       "10 139                                                                       \n",
       "11 139 to 139                                                                \n",
       "12            & PERP_OF_AXIS_DAT_FG_TO_AXIS_DAT_DE_DAT_B_TWO_COAXIAL_HOLES >=\n",
       "14            & PERP_OF_AXIS_DAT_FG_TO_AXIS_DAT_DE_DAT_B_TWO_COAXIAL_HOLES < \n",
       "13            & PERP_OF_AXIS_DAT_FG_TO_AXIS_DAT_DE_DAT_B_TWO_COAXIAL_HOLES >=\n",
       "15            & PERP_OF_AXIS_DAT_FG_TO_AXIS_DAT_DE_DAT_B_TWO_COAXIAL_HOLES < \n",
       "      \n",
       "8     \n",
       "9     \n",
       "10    \n",
       "11    \n",
       "12 105\n",
       "14 105\n",
       "13 105\n",
       "15 105"
      ]
     },
     "metadata": {},
     "output_type": "display_data"
    }
   ],
   "source": [
    "rpart.rules(tree)"
   ]
  },
  {
   "cell_type": "markdown",
   "metadata": {},
   "source": [
    "### Print Comments"
   ]
  },
  {
   "cell_type": "code",
   "execution_count": null,
   "metadata": {},
   "outputs": [],
   "source": []
  }
 ],
 "metadata": {
  "kernelspec": {
   "display_name": "R",
   "language": "R",
   "name": "ir"
  },
  "language_info": {
   "codemirror_mode": "r",
   "file_extension": ".r",
   "mimetype": "text/x-r-source",
   "name": "R",
   "pygments_lexer": "r",
   "version": "3.6.1"
  }
 },
 "nbformat": 4,
 "nbformat_minor": 2
}
