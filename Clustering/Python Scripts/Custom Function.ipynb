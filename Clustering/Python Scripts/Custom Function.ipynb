{
 "cells": [
  {
   "cell_type": "code",
   "execution_count": 2,
   "metadata": {},
   "outputs": [],
   "source": [
    "import pandas as pd\n",
    "import numpy as np\n",
    "import os\n",
    "import matplotlib.pyplot as plt \n",
    "import pydotplus\n",
    "from sklearn.tree import DecisionTreeClassifier\n",
    "from sklearn import tree\n",
    "from IPython.display import Image \n",
    "pd.options.display.max_columns=15\n",
    "import seaborn as sns"
   ]
  },
  {
   "cell_type": "code",
   "execution_count": 3,
   "metadata": {},
   "outputs": [],
   "source": [
    "os.chdir(r\"C:\\Users\\aman.khatri91425\\Desktop\\HomeCredit\\AAM\\Clustering\")\n",
    "seed = 4"
   ]
  },
  {
   "cell_type": "code",
   "execution_count": 4,
   "metadata": {},
   "outputs": [
    {
     "name": "stderr",
     "output_type": "stream",
     "text": [
      "C:\\Users\\aman.khatri91425\\AppData\\Local\\Continuum\\anaconda3\\lib\\site-packages\\IPython\\core\\interactiveshell.py:3049: DtypeWarning: Columns (13) have mixed types.Specify dtype option on import or set low_memory=False.\n",
      "  interactivity=interactivity, compiler=compiler, result=result)\n"
     ]
    }
   ],
   "source": [
    "df = pd.read_csv(os.getcwd()+r\"\\Data Files\\NVHGearsBLCarrier.csv\")"
   ]
  },
  {
   "cell_type": "code",
   "execution_count": 5,
   "metadata": {},
   "outputs": [
    {
     "data": {
      "text/html": [
       "<div>\n",
       "<style scoped>\n",
       "    .dataframe tbody tr th:only-of-type {\n",
       "        vertical-align: middle;\n",
       "    }\n",
       "\n",
       "    .dataframe tbody tr th {\n",
       "        vertical-align: top;\n",
       "    }\n",
       "\n",
       "    .dataframe thead th {\n",
       "        text-align: right;\n",
       "    }\n",
       "</style>\n",
       "<table border=\"1\" class=\"dataframe\">\n",
       "  <thead>\n",
       "    <tr style=\"text-align: right;\">\n",
       "      <th></th>\n",
       "      <th>SITENAME</th>\n",
       "      <th>PLANTNAME</th>\n",
       "      <th>LINENAME</th>\n",
       "      <th>STATIONNAME</th>\n",
       "      <th>LAPPER_STATION</th>\n",
       "      <th>BACKLASH_STATION</th>\n",
       "      <th>OP110_STN</th>\n",
       "      <th>...</th>\n",
       "      <th>'SFT 1st Mesh Harmonic Coast Side Pos 1 Val (µrad)'</th>\n",
       "      <th>'Single Flank Tester Spiral Angle Pinion'</th>\n",
       "      <th>'Single Flank Tester Spiral Angle Ring Gear'</th>\n",
       "      <th>M46BPDXX_DISTANCE_D_SEAT_TO_FG</th>\n",
       "      <th>M47BPDXX_DISTANCE_DE_TO_F_SEAT</th>\n",
       "      <th>M48BPDXX_DISTANCE_DE_TO_G_SEAT</th>\n",
       "      <th>PERP_OF_AXIS_DAT_FG_TO_AXIS_DAT_DE_DAT_B_TWO_COAXIAL_HOLES</th>\n",
       "    </tr>\n",
       "  </thead>\n",
       "  <tbody>\n",
       "    <tr>\n",
       "      <th>0</th>\n",
       "      <td>GMCFULL</td>\n",
       "      <td>Full Frame BU (Plant 5)</td>\n",
       "      <td>NVH A&amp;B</td>\n",
       "      <td>OP300A</td>\n",
       "      <td>GBT604077</td>\n",
       "      <td>B</td>\n",
       "      <td>110B</td>\n",
       "      <td>...</td>\n",
       "      <td>3.0684</td>\n",
       "      <td>51.083</td>\n",
       "      <td>25.066</td>\n",
       "      <td>158.5025</td>\n",
       "      <td>142.5115</td>\n",
       "      <td>105.0310</td>\n",
       "      <td>0.06390</td>\n",
       "    </tr>\n",
       "    <tr>\n",
       "      <th>1</th>\n",
       "      <td>GMCFULL</td>\n",
       "      <td>Full Frame BU (Plant 5)</td>\n",
       "      <td>NVH A&amp;B</td>\n",
       "      <td>OP300A</td>\n",
       "      <td>GBT702432</td>\n",
       "      <td>A</td>\n",
       "      <td>110B</td>\n",
       "      <td>...</td>\n",
       "      <td>3.1568</td>\n",
       "      <td>51.083</td>\n",
       "      <td>25.066</td>\n",
       "      <td>158.4980</td>\n",
       "      <td>142.4870</td>\n",
       "      <td>105.0190</td>\n",
       "      <td>0.00880</td>\n",
       "    </tr>\n",
       "    <tr>\n",
       "      <th>2</th>\n",
       "      <td>GMCFULL</td>\n",
       "      <td>Full Frame BU (Plant 5)</td>\n",
       "      <td>NVH A&amp;B</td>\n",
       "      <td>OP300B</td>\n",
       "      <td>GBT702432</td>\n",
       "      <td>A</td>\n",
       "      <td>110B</td>\n",
       "      <td>...</td>\n",
       "      <td>3.6532</td>\n",
       "      <td>51.083</td>\n",
       "      <td>25.066</td>\n",
       "      <td>158.4850</td>\n",
       "      <td>142.4860</td>\n",
       "      <td>105.0425</td>\n",
       "      <td>0.01305</td>\n",
       "    </tr>\n",
       "    <tr>\n",
       "      <th>3</th>\n",
       "      <td>GMCFULL</td>\n",
       "      <td>Full Frame BU (Plant 5)</td>\n",
       "      <td>NVH A&amp;B</td>\n",
       "      <td>OP300B</td>\n",
       "      <td>GBT604077</td>\n",
       "      <td>A</td>\n",
       "      <td>110A</td>\n",
       "      <td>...</td>\n",
       "      <td>2.0519</td>\n",
       "      <td>51.083</td>\n",
       "      <td>25.066</td>\n",
       "      <td>158.5055</td>\n",
       "      <td>142.4780</td>\n",
       "      <td>105.0230</td>\n",
       "      <td>0.02975</td>\n",
       "    </tr>\n",
       "    <tr>\n",
       "      <th>4</th>\n",
       "      <td>GMCFULL</td>\n",
       "      <td>Full Frame BU (Plant 5)</td>\n",
       "      <td>NVH A&amp;B</td>\n",
       "      <td>OP300A</td>\n",
       "      <td>GBT604077</td>\n",
       "      <td>A</td>\n",
       "      <td>110A</td>\n",
       "      <td>...</td>\n",
       "      <td>0.5989</td>\n",
       "      <td>51.083</td>\n",
       "      <td>25.066</td>\n",
       "      <td>158.4710</td>\n",
       "      <td>142.5160</td>\n",
       "      <td>105.0750</td>\n",
       "      <td>0.05240</td>\n",
       "    </tr>\n",
       "  </tbody>\n",
       "</table>\n",
       "<p>5 rows × 44 columns</p>\n",
       "</div>"
      ],
      "text/plain": [
       "  SITENAME                PLANTNAME LINENAME STATIONNAME LAPPER_STATION  \\\n",
       "0  GMCFULL  Full Frame BU (Plant 5)  NVH A&B      OP300A      GBT604077   \n",
       "1  GMCFULL  Full Frame BU (Plant 5)  NVH A&B      OP300A      GBT702432   \n",
       "2  GMCFULL  Full Frame BU (Plant 5)  NVH A&B      OP300B      GBT702432   \n",
       "3  GMCFULL  Full Frame BU (Plant 5)  NVH A&B      OP300B      GBT604077   \n",
       "4  GMCFULL  Full Frame BU (Plant 5)  NVH A&B      OP300A      GBT604077   \n",
       "\n",
       "  BACKLASH_STATION OP110_STN  ...  \\\n",
       "0                B      110B  ...   \n",
       "1                A      110B  ...   \n",
       "2                A      110B  ...   \n",
       "3                A      110A  ...   \n",
       "4                A      110A  ...   \n",
       "\n",
       "  'SFT 1st Mesh Harmonic Coast Side Pos 1 Val (µrad)'  \\\n",
       "0                                             3.0684    \n",
       "1                                             3.1568    \n",
       "2                                             3.6532    \n",
       "3                                             2.0519    \n",
       "4                                             0.5989    \n",
       "\n",
       "  'Single Flank Tester Spiral Angle Pinion'  \\\n",
       "0                                    51.083   \n",
       "1                                    51.083   \n",
       "2                                    51.083   \n",
       "3                                    51.083   \n",
       "4                                    51.083   \n",
       "\n",
       "   'Single Flank Tester Spiral Angle Ring Gear'  \\\n",
       "0                                        25.066   \n",
       "1                                        25.066   \n",
       "2                                        25.066   \n",
       "3                                        25.066   \n",
       "4                                        25.066   \n",
       "\n",
       "  M46BPDXX_DISTANCE_D_SEAT_TO_FG M47BPDXX_DISTANCE_DE_TO_F_SEAT  \\\n",
       "0                       158.5025                       142.5115   \n",
       "1                       158.4980                       142.4870   \n",
       "2                       158.4850                       142.4860   \n",
       "3                       158.5055                       142.4780   \n",
       "4                       158.4710                       142.5160   \n",
       "\n",
       "   M48BPDXX_DISTANCE_DE_TO_G_SEAT  \\\n",
       "0                        105.0310   \n",
       "1                        105.0190   \n",
       "2                        105.0425   \n",
       "3                        105.0230   \n",
       "4                        105.0750   \n",
       "\n",
       "  PERP_OF_AXIS_DAT_FG_TO_AXIS_DAT_DE_DAT_B_TWO_COAXIAL_HOLES  \n",
       "0                                            0.06390          \n",
       "1                                            0.00880          \n",
       "2                                            0.01305          \n",
       "3                                            0.02975          \n",
       "4                                            0.05240          \n",
       "\n",
       "[5 rows x 44 columns]"
      ]
     },
     "execution_count": 5,
     "metadata": {},
     "output_type": "execute_result"
    }
   ],
   "source": [
    "df.head()"
   ]
  },
  {
   "cell_type": "markdown",
   "metadata": {},
   "source": [
    "# Data Cleaning"
   ]
  },
  {
   "cell_type": "code",
   "execution_count": 6,
   "metadata": {},
   "outputs": [],
   "source": [
    "df[\"STATUS_ENC\"]=np.where(df[\"STATUS\"]=='A',0,1)"
   ]
  },
  {
   "cell_type": "code",
   "execution_count": 7,
   "metadata": {},
   "outputs": [],
   "source": [
    "df[\"'Pinion Position'\"] = df[\"'Pinion Position'\"].fillna(df.groupby('TOPPART')[\"'Pinion Position'\"].transform('median'))\n",
    "df[\"'Pinion Head dist real'\"] = df[\"'Pinion Head dist real'\"].fillna(df.groupby('TOPPART')[\"'Pinion Head dist real'\"].transform('median'))\n",
    "df[\"'Single Flank Tester Spiral Angle Pinion'\"] = df[\"'Single Flank Tester Spiral Angle Pinion'\"].fillna(df.groupby(['LAPPER_STATION'])[\"'Single Flank Tester Spiral Angle Pinion'\"].transform('median'))\n",
    "df[\"'Single Flank Tester Spiral Angle Ring Gear'\"] = df[\"'Single Flank Tester Spiral Angle Ring Gear'\"].fillna(df.groupby(['LAPPER_STATION'])[\"'Single Flank Tester Spiral Angle Ring Gear'\"].transform('median'))"
   ]
  },
  {
   "cell_type": "code",
   "execution_count": 8,
   "metadata": {},
   "outputs": [],
   "source": [
    "df.dropna(inplace = True)"
   ]
  },
  {
   "cell_type": "markdown",
   "metadata": {},
   "source": [
    "# Select TopPart"
   ]
  },
  {
   "cell_type": "code",
   "execution_count": 9,
   "metadata": {},
   "outputs": [],
   "source": [
    "df_model = df[df[\"TOPPART\"]==84833854]"
   ]
  },
  {
   "cell_type": "markdown",
   "metadata": {},
   "source": [
    "# Create Story"
   ]
  },
  {
   "cell_type": "markdown",
   "metadata": {},
   "source": [
    "### 1st method: Assign bad rate: lowest of both the sides "
   ]
  },
  {
   "cell_type": "code",
   "execution_count": 45,
   "metadata": {},
   "outputs": [],
   "source": [
    "def cost(df = pd.DataFrame(), feature = \"'Ring Gear Press Distance'\", status = \"STATUS_ENC\", cutoff = 0):\n",
    "    dist1 = df_model[df_model[feature]>cutoff][[feature,status_enc]]\n",
    "    dist2 = df_model[df_model[feature]<=cutoff][[feature,status_enc]]\n",
    "\n",
    "\n",
    "    bad_rate1= dist1[status_enc].sum()/dist1[status_enc].count()\n",
    "    bad_rate2= dist2[status_enc].sum()/dist2[status_enc].count()\n",
    "\n",
    "    bad_ratef = np.minimum(bad_rate1, bad_rate2)\n",
    "\n",
    "    reject_saving = round((bad_rate1-bad_ratef) * dist1[status_enc].count() + (bad_rate2-bad_ratef) * dist2[status_enc].count())\n",
    "\n",
    "    return reject_saving"
   ]
  },
  {
   "cell_type": "code",
   "execution_count": 46,
   "metadata": {},
   "outputs": [],
   "source": [
    "cost_df = {'cutoff':[],'reject_saving':[]}\n",
    "for cut in df[\"'Ring Gear Press Distance'\"].quantile(np.arange(0,1,0.02)):\n",
    "    cost_df[\"cutoff\"].append(cut)\n",
    "    cost_df[\"reject_saving\"].append(cost(df = df_model, feature = \"'Ring Gear Press Distance'\", status = \"STATUS_ENC\", cutoff = cut))\n",
    "    \n",
    "cost_df = pd.DataFrame(cost_df)"
   ]
  },
  {
   "cell_type": "code",
   "execution_count": 48,
   "metadata": {},
   "outputs": [
    {
     "data": {
      "text/plain": [
       "<AxesSubplot:xlabel='cutoff'>"
      ]
     },
     "execution_count": 48,
     "metadata": {},
     "output_type": "execute_result"
    },
    {
     "data": {
      "image/png": "[encoded data removed]",
      "text/plain": [
       "<Figure size 432x288 with 1 Axes>"
      ]
     },
     "metadata": {
      "needs_background": "light"
     },
     "output_type": "display_data"
    }
   ],
   "source": [
    "cost_df.plot(x='cutoff',y='reject_saving')"
   ]
  },
  {
   "cell_type": "code",
   "execution_count": null,
   "metadata": {},
   "outputs": [],
   "source": []
  },
  {
   "cell_type": "code",
   "execution_count": 14,
   "metadata": {},
   "outputs": [
    {
     "data": {
      "text/plain": [
       "<AxesSubplot:>"
      ]
     },
     "execution_count": 14,
     "metadata": {},
     "output_type": "execute_result"
    },
    {
     "data": {
      "image/png": "[encoded data removed]",
      "text/plain": [
       "<Figure size 432x288 with 1 Axes>"
      ]
     },
     "metadata": {
      "needs_background": "light"
     },
     "output_type": "display_data"
    }
   ],
   "source": [
    "df_model[feature].hist()"
   ]
  },
  {
   "cell_type": "markdown",
   "metadata": {},
   "source": [
    "### 2nd Analysis: Assign Bad rate: Of the side with higher observations"
   ]
  },
  {
   "cell_type": "code",
   "execution_count": 23,
   "metadata": {},
   "outputs": [],
   "source": [
    "def cost(df = pd.DataFrame(), feature = \"'Ring Gear Press Distance'\", status = \"STATUS_ENC\", cutoff = 0):\n",
    "    dist1 = df_model[df_model[feature]>cutoff][[feature,status_enc]]\n",
    "    dist2 = df_model[df_model[feature]<=cutoff][[feature,status_enc]]\n",
    "\n",
    "\n",
    "    bad_rate1= dist1[status_enc].sum()/dist1[status_enc].count()\n",
    "    bad_rate2= dist2[status_enc].sum()/dist2[status_enc].count()\n",
    "\n",
    "    bad_ratef = np.where(dist1[status_enc].count()>dist2[status_enc].count(),bad_rate1, bad_rate2)\n",
    "\n",
    "    reject_saving = round((bad_rate1-bad_ratef) * dist1[status_enc].count() + (bad_rate2-bad_ratef) * dist2[status_enc].count())\n",
    "\n",
    "    return reject_saving"
   ]
  },
  {
   "cell_type": "code",
   "execution_count": 36,
   "metadata": {},
   "outputs": [],
   "source": [
    "cost_df = {'cutoff':[],'reject_saving':[]}\n",
    "for cut in df[\"'Ring Gear Press Distance'\"].quantile(np.arange(0,1,0.02)):\n",
    "    cost_df[\"cutoff\"].append(cut)\n",
    "    cost_df[\"reject_saving\"].append(cost(df = df_model, feature = \"'Ring Gear Press Distance'\", status = \"STATUS_ENC\", cutoff = cut))\n",
    "    \n",
    "cost_df = pd.DataFrame(cost_df)"
   ]
  },
  {
   "cell_type": "code",
   "execution_count": 37,
   "metadata": {},
   "outputs": [
    {
     "data": {
      "text/plain": [
       "<AxesSubplot:xlabel='cutoff'>"
      ]
     },
     "execution_count": 37,
     "metadata": {},
     "output_type": "execute_result"
    },
    {
     "data": {
      "image/png": "[encoded data removed]",
      "text/plain": [
       "<Figure size 432x288 with 1 Axes>"
      ]
     },
     "metadata": {
      "needs_background": "light"
     },
     "output_type": "display_data"
    }
   ],
   "source": [
    "cost_df.plot(x='cutoff',y='reject_saving')"
   ]
  },
  {
   "cell_type": "code",
   "execution_count": 30,
   "metadata": {},
   "outputs": [
    {
     "data": {
      "text/plain": [
       "16.0"
      ]
     },
     "execution_count": 30,
     "metadata": {},
     "output_type": "execute_result"
    }
   ],
   "source": [
    "cost(df = df_model, feature = \"'Ring Gear Press Distance'\", status = \"STATUS_ENC\", cutoff = 111)"
   ]
  },
  {
   "cell_type": "markdown",
   "metadata": {},
   "source": [
    "### 3rd Analysis: Use Accuracy"
   ]
  },
  {
   "cell_type": "code",
   "execution_count": 56,
   "metadata": {},
   "outputs": [],
   "source": [
    "def cost(df = pd.DataFrame(), feature = \"'Ring Gear Press Distance'\", status = \"STATUS_ENC\", cutoff = 0):\n",
    "    \n",
    "    \n",
    "    dist1 = df_model[df_model[feature]>cutoff][[feature,status_enc]]\n",
    "    dist2 = df_model[df_model[feature]<=cutoff][[feature,status_enc]]\n",
    "\n",
    "    bad_rate_overall = df_model[status_enc].sum()/df_model[status_enc].count()\n",
    "    bad_rate1= dist1[status_enc].sum()/dist1[status_enc].count()\n",
    "    bad_rate2= dist2[status_enc].sum()/dist2[status_enc].count()\n",
    "\n",
    "#     if bad_rate1 > bad_rate_overall :\n",
    "#         accuracy1 = dist1[status_enc].sum()/dist1[status_enc].count()\n",
    "#     else:\n",
    "#         accuracy1 = 1-dist1[status_enc].sum()/dist1[status_enc].count()\n",
    "    \n",
    "#     if bad_rate2 > bad_rate_overall :\n",
    "#         accuracy2 = dist2[status_enc].sum()/dist2[status_enc].count()\n",
    "#     else:\n",
    "#         accuracy2 = 1-dist2[status_enc].sum()/dist2[status_enc].count()\n",
    "    \n",
    "    if bad_rate1 > 0.5 :\n",
    "        accuracy1 = bad_rate1\n",
    "    else:\n",
    "        accuracy1 = 1-bad_rate1\n",
    "    \n",
    "    if bad_rate2 > 0.5 :\n",
    "        accuracy2 = bad_rate1\n",
    "    else:\n",
    "        accuracy2 = bad_rate2\n",
    "      \n",
    "  \n",
    "    weighted_accuracy = (accuracy1*dist1[status_enc].count()+accuracy2*dist2[status_enc].count())/(df_model[status_enc].count())\n",
    "    bad_ratef = np.minimum(bad_rate1, bad_rate2)\n",
    "\n",
    "    reject_saving = round((bad_rate1-bad_ratef) * dist1[status_enc].count() + (bad_rate2-bad_ratef) * dist2[status_enc].count())\n",
    "\n",
    "\n",
    "    return reject_saving, weighted_accuracy"
   ]
  },
  {
   "cell_type": "code",
   "execution_count": 57,
   "metadata": {},
   "outputs": [],
   "source": [
    "cost_df = {'cutoff':[],'reject_saving':[], 'weighted_acc':[]}\n",
    "for cut in df[\"'Ring Gear Press Distance'\"].quantile(np.arange(0,1,0.02)):\n",
    "    reject_saving, weighted_accuracy = cost(df = df_model, feature = \"'Ring Gear Press Distance'\", status = \"STATUS_ENC\", cutoff = cut)\n",
    "    cost_df[\"cutoff\"].append(cut)\n",
    "    cost_df[\"reject_saving\"].append(reject_saving)\n",
    "    cost_df[\"weighted_acc\"].append(weighted_accuracy)\n",
    "    \n",
    "cost_df = pd.DataFrame(cost_df)"
   ]
  },
  {
   "cell_type": "code",
   "execution_count": 58,
   "metadata": {},
   "outputs": [
    {
     "data": {
      "text/plain": [
       "(100.0, 120.0)"
      ]
     },
     "execution_count": 58,
     "metadata": {},
     "output_type": "execute_result"
    },
    {
     "data": {
      "image/png": "[encoded data removed]",
      "text/plain": [
       "<Figure size 432x288 with 2 Axes>"
      ]
     },
     "metadata": {
      "needs_background": "light"
     },
     "output_type": "display_data"
    }
   ],
   "source": [
    "ax = cost_df.plot(x='cutoff',y=['reject_saving'])\n",
    "ax1 = ax.twinx()\n",
    "cost_df.plot(x='cutoff',y=['weighted_acc'],ax=ax1, color='r')\n",
    "plt.xlim(100,120)"
   ]
  },
  {
   "cell_type": "code",
   "execution_count": null,
   "metadata": {},
   "outputs": [],
   "source": []
  },
  {
   "cell_type": "code",
   "execution_count": 59,
   "metadata": {},
   "outputs": [],
   "source": [
    "def cost(df = pd.DataFrame(), feature = \"'Ring Gear Press Distance'\", status = \"STATUS_ENC\", cutoff = 0):\n",
    "    \n",
    "    \n",
    "    dist1 = df_model[df_model[feature]>cutoff][[feature,status_enc]]\n",
    "    dist2 = df_model[df_model[feature]<=cutoff][[feature,status_enc]]\n",
    "\n",
    "    bad_rate_overall = df_model[status_enc].sum()/df_model[status_enc].count()\n",
    "    bad_rate1= dist1[status_enc].sum()/dist1[status_enc].count()\n",
    "    bad_rate2= dist2[status_enc].sum()/dist2[status_enc].count()\n",
    "\n",
    "    if bad_rate1 > bad_rate_overall :\n",
    "        accuracy1 = dist1[status_enc].sum()/dist1[status_enc].count()\n",
    "    else:\n",
    "        accuracy1 = 1-dist1[status_enc].sum()/dist1[status_enc].count()\n",
    "    \n",
    "    if bad_rate2 > bad_rate_overall :\n",
    "        accuracy2 = dist2[status_enc].sum()/dist2[status_enc].count()\n",
    "    else:\n",
    "        accuracy2 = 1-dist2[status_enc].sum()/dist2[status_enc].count()\n",
    "    \n",
    "#     if bad_rate1 > 0.5 :\n",
    "#         accuracy1 = bad_rate1\n",
    "#     else:\n",
    "#         accuracy1 = 1-bad_rate1\n",
    "    \n",
    "#     if bad_rate2 > 0.5 :\n",
    "#         accuracy2 = bad_rate1\n",
    "#     else:\n",
    "#         accuracy2 = bad_rate2\n",
    "      \n",
    "  \n",
    "    weighted_accuracy = (accuracy1*dist1[status_enc].count()+accuracy2*dist2[status_enc].count())/(df_model[status_enc].count())\n",
    "    bad_ratef = np.minimum(bad_rate1, bad_rate2)\n",
    "\n",
    "    reject_saving = round((bad_rate1-bad_ratef) * dist1[status_enc].count() + (bad_rate2-bad_ratef) * dist2[status_enc].count())\n",
    "\n",
    "\n",
    "    return reject_saving, weighted_accuracy"
   ]
  },
  {
   "cell_type": "code",
   "execution_count": 60,
   "metadata": {},
   "outputs": [],
   "source": [
    "cost_df = {'cutoff':[],'reject_saving':[], 'weighted_acc':[]}\n",
    "for cut in df[\"'Ring Gear Press Distance'\"].quantile(np.arange(0,1,0.02)):\n",
    "    reject_saving, weighted_accuracy = cost(df = df_model, feature = \"'Ring Gear Press Distance'\", status = \"STATUS_ENC\", cutoff = cut)\n",
    "    cost_df[\"cutoff\"].append(cut)\n",
    "    cost_df[\"reject_saving\"].append(reject_saving)\n",
    "    cost_df[\"weighted_acc\"].append(weighted_accuracy)\n",
    "    \n",
    "cost_df = pd.DataFrame(cost_df)"
   ]
  },
  {
   "cell_type": "code",
   "execution_count": 61,
   "metadata": {},
   "outputs": [
    {
     "data": {
      "text/plain": [
       "(100.0, 120.0)"
      ]
     },
     "execution_count": 61,
     "metadata": {},
     "output_type": "execute_result"
    },
    {
     "data": {
      "image/png": "[encoded data removed]",
      "text/plain": [
       "<Figure size 432x288 with 2 Axes>"
      ]
     },
     "metadata": {
      "needs_background": "light"
     },
     "output_type": "display_data"
    }
   ],
   "source": [
    "ax = cost_df.plot(x='cutoff',y=['reject_saving'])\n",
    "ax1 = ax.twinx()\n",
    "cost_df.plot(x='cutoff',y=['weighted_acc'],ax=ax1, color='r')\n",
    "plt.xlim(100,120)"
   ]
  },
  {
   "cell_type": "code",
   "execution_count": null,
   "metadata": {},
   "outputs": [],
   "source": []
  },
  {
   "cell_type": "code",
   "execution_count": null,
   "metadata": {},
   "outputs": [],
   "source": []
  },
  {
   "cell_type": "code",
   "execution_count": null,
   "metadata": {},
   "outputs": [],
   "source": []
  },
  {
   "cell_type": "code",
   "execution_count": null,
   "metadata": {},
   "outputs": [],
   "source": []
  },
  {
   "cell_type": "code",
   "execution_count": null,
   "metadata": {},
   "outputs": [],
   "source": []
  },
  {
   "cell_type": "code",
   "execution_count": null,
   "metadata": {},
   "outputs": [],
   "source": []
  },
  {
   "cell_type": "markdown",
   "metadata": {},
   "source": [
    "### compare with Decision Tree (gini)"
   ]
  },
  {
   "cell_type": "code",
   "execution_count": null,
   "metadata": {},
   "outputs": [],
   "source": []
  }
 ],
 "metadata": {
  "kernelspec": {
   "display_name": "Python 3",
   "language": "python",
   "name": "python3"
  },
  "language_info": {
   "codemirror_mode": {
    "name": "ipython",
    "version": 3
   },
   "file_extension": ".py",
   "mimetype": "text/x-python",
   "name": "python",
   "nbconvert_exporter": "python",
   "pygments_lexer": "ipython3",
   "version": "3.7.3"
  }
 },
 "nbformat": 4,
 "nbformat_minor": 2
}
