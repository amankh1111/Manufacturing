{
 "cells": [
  {
   "cell_type": "code",
   "execution_count": 1,
   "metadata": {},
   "outputs": [],
   "source": [
    "import pandas as pd\n",
    "import numpy as np\n",
    "from datetime import datetime as dt\n",
    "import cx_Oracle\n",
    "import os\n",
    "from logger import logger"
   ]
  },
  {
   "cell_type": "code",
   "execution_count": 5,
   "metadata": {},
   "outputs": [],
   "source": [
    "conn = cx_Oracle.connect('**USERNAME**','**PWD**','**SERVER_DSN**')"
   ]
  },
  {
   "cell_type": "code",
   "execution_count": 6,
   "metadata": {},
   "outputs": [],
   "source": [
    "cursor = conn.cursor()"
   ]
  },
  {
   "cell_type": "code",
   "execution_count": 13,
   "metadata": {},
   "outputs": [],
   "source": [
    "command1 = \"drop table ETL_LOGS\"\n",
    "\n",
    "command2 = \"\"\"CREATE TABLE ETL_LOGS(\n",
    " run_id NUMBER,\n",
    " step NUMBER,\n",
    " process_name VARCHAR2(50),\n",
    " log_info VARCHAR2(500),\n",
    " start_timestamp TIMESTAMP,\n",
    " finish_timestamp TIMESTAMP,\n",
    " result VARCHAR2(50),\n",
    " message VARCHAR2(500),\n",
    " run_time FLOAT\n",
    ")\"\"\"\n",
    "\n",
    "\n",
    "command3 = \"\"\"insert into ETL_LOGS(RUN_ID,STEP,PROCESS_NAME,LOG_INFO,START_TIMESTAMP,FINISH_TIMESTAMP,RESULT,MESSAGE,RUN_TIME) \n",
    "                        values (:1,:2,:3,:4,:5,:6,:7,:8,:9)\"\"\"\n",
    "\n",
    "\n",
    "\n",
    "# cursor.execute(command1)\n",
    "cursor.execute(command2)\n",
    "cursor.execute(command3, (0,0,'','',dt.now(),dt.now(),'None','Sample Record',0))"
   ]
  },
  {
   "cell_type": "code",
   "execution_count": 14,
   "metadata": {},
   "outputs": [],
   "source": [
    "conn.commit()"
   ]
  },
  {
   "cell_type": "code",
   "execution_count": null,
   "metadata": {},
   "outputs": [],
   "source": []
  },
  {
   "cell_type": "code",
   "execution_count": null,
   "metadata": {},
   "outputs": [],
   "source": []
  },
  {
   "cell_type": "code",
   "execution_count": null,
   "metadata": {},
   "outputs": [],
   "source": []
  }
 ],
 "metadata": {
  "kernelspec": {
   "display_name": "Python 3",
   "language": "python",
   "name": "python3"
  },
  "language_info": {
   "codemirror_mode": {
    "name": "ipython",
    "version": 3
   },
   "file_extension": ".py",
   "mimetype": "text/x-python",
   "name": "python",
   "nbconvert_exporter": "python",
   "pygments_lexer": "ipython3",
   "version": "3.8.3"
  }
 },
 "nbformat": 4,
 "nbformat_minor": 2
}
