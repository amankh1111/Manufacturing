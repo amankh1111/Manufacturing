{
 "cells": [
  {
   "cell_type": "code",
   "execution_count": 3,
   "metadata": {},
   "outputs": [],
   "source": [
    "import pandas as pd\n",
    "import numpy as np\n",
    "from datetime import datetime as dt\n",
    "import cx_Oracle\n",
    "import os\n",
    "\n",
    "import sys\n",
    "sys.path.append(r\"C:\\Users\\Aman Khatri\\Desktop\\Work\\AAM\\ETL Logging\\Python Scripts\")\n",
    "from logger import logger\n",
    "\n",
    "Logger = logger()\n",
    "Logger.begin(process_name = 'Job_Name')\n",
    "try:\n",
    "    \n",
    "    Logger.start(log_info = 'Code_block_identifier1')\n",
    "    # Code \n",
    "    # block\n",
    "    # 1\n",
    "\n",
    "    Logger.start(log_info = 'Code_block_identifier2')\n",
    "    # Code \n",
    "    # block\n",
    "    # 2\n",
    "\n",
    "    Logger.start(log_info = 'Code_block_identifier3')\n",
    "    # Code \n",
    "    # block\n",
    "    # 3\n",
    "\n",
    "    Logger.start(log_info = 'Code_block_identifier4')\n",
    "    # Code \n",
    "    # block\n",
    "    # 4\n",
    "    import sklearn\n",
    "\n",
    "    Logger.start(log_info = 'Code_block_identifier5')\n",
    "    # Code \n",
    "    # block\n",
    "    # 5\n",
    "\n",
    "    Logger.start(log_info = 'Code_block_identifier6')\n",
    "    # Code \n",
    "    # block\n",
    "    # 6\n",
    "    0/0\n",
    "\n",
    "    Logger.start(log_info = 'Code_block_identifier7')\n",
    "    # Code \n",
    "    # block\n",
    "    # 6\n",
    "\n",
    "    Logger.end(result = 'Success', message = 'Successfully Completed')\n",
    "except Exception as e:\n",
    "    Logger.end(result = 'Failed', message = e, email_alert=True, email_to=['aman.khatri@aam.com'])"
   ]
  },
  {
   "cell_type": "code",
   "execution_count": null,
   "metadata": {},
   "outputs": [],
   "source": []
  },
  {
   "cell_type": "code",
   "execution_count": null,
   "metadata": {},
   "outputs": [],
   "source": []
  },
  {
   "cell_type": "code",
   "execution_count": null,
   "metadata": {},
   "outputs": [],
   "source": []
  },
  {
   "cell_type": "code",
   "execution_count": null,
   "metadata": {},
   "outputs": [],
   "source": []
  },
  {
   "cell_type": "code",
   "execution_count": null,
   "metadata": {},
   "outputs": [],
   "source": []
  },
  {
   "cell_type": "code",
   "execution_count": null,
   "metadata": {},
   "outputs": [],
   "source": []
  },
  {
   "cell_type": "code",
   "execution_count": null,
   "metadata": {},
   "outputs": [],
   "source": []
  },
  {
   "cell_type": "code",
   "execution_count": null,
   "metadata": {},
   "outputs": [],
   "source": []
  },
  {
   "cell_type": "code",
   "execution_count": null,
   "metadata": {},
   "outputs": [],
   "source": []
  },
  {
   "cell_type": "code",
   "execution_count": null,
   "metadata": {},
   "outputs": [],
   "source": []
  },
  {
   "cell_type": "markdown",
   "metadata": {},
   "source": [
    "# Appendix"
   ]
  },
  {
   "cell_type": "code",
   "execution_count": 4,
   "metadata": {},
   "outputs": [],
   "source": [
    "import warnings"
   ]
  },
  {
   "cell_type": "code",
   "execution_count": 6,
   "metadata": {},
   "outputs": [
    {
     "name": "stderr",
     "output_type": "stream",
     "text": [
      "C:\\Users\\aman.khatri91425\\AppData\\Local\\Continuum\\anaconda3\\lib\\site-packages\\sklearn\\linear_model\\logistic.py:433: FutureWarning: Default solver will be changed to 'lbfgs' in 0.22. Specify a solver to silence this warning.\n",
      "  FutureWarning)\n"
     ]
    }
   ],
   "source": [
    "import logging\n",
    "from sklearn.linear_model import LogisticRegression\n",
    "\n",
    "def do_something():\n",
    "    logging.info('Doing something')\n",
    "    \n",
    "\n",
    "# logging.basicConfig(filename='myapp.log', level=logging.INFO)\n",
    "logging.basicConfig(filename='myapp.log', level=logging.DEBUG)\n",
    "\n",
    "\n",
    "logging.warning('Watch out!')  # will print a message to the console\n",
    "logging.info('I told you so')\n",
    "logging.info('Started')\n",
    "do_something()\n",
    "x = LogisticRegression()\n",
    "x.fit(np.array([0,1,1,1,0,0,0]).reshape(-1,1), [0,1,1,1,0,0,0])\n",
    "logging.info('Finished')\n"
   ]
  },
  {
   "cell_type": "code",
   "execution_count": 8,
   "metadata": {},
   "outputs": [
    {
     "data": {
      "text/plain": [
       "catch_warnings(record=True)"
      ]
     },
     "execution_count": 8,
     "metadata": {},
     "output_type": "execute_result"
    }
   ],
   "source": [
    "logging.basicConfig(filename='myapp.log', level=logging.critical)\n",
    "logging.captureWarnings(capture= True)\n",
    "\n",
    "logging.debug('This message should go to the log file')\n",
    "logging.info('So should this')\n",
    "logging.warning('And this, too')\n",
    "logging.error('And non-ASCII stuff, too, like Øresund and Malmö')\n",
    "logging.critical('Critical')\n",
    "x = LogisticRegression()\n",
    "x.fit(np.array([0,1,1,1,0,0,0]).reshape(-1,1), [0,1,1,1,0,0,0])\n",
    "\n",
    "\n",
    "import warnings\n",
    "warnings.catch_warnings(record=True)"
   ]
  },
  {
   "cell_type": "code",
   "execution_count": 38,
   "metadata": {},
   "outputs": [
    {
     "data": {
      "text/plain": [
       "LogisticRegression(C=1.0, class_weight=None, dual=False, fit_intercept=True,\n",
       "          intercept_scaling=1, max_iter=100, multi_class='warn',\n",
       "          n_jobs=None, penalty='l2', random_state=None, solver='warn',\n",
       "          tol=0.0001, verbose=0, warm_start=False)"
      ]
     },
     "execution_count": 38,
     "metadata": {},
     "output_type": "execute_result"
    }
   ],
   "source": [
    "import sys\n",
    "x = LogisticRegression()\n",
    "x.fit(np.array([0,1,1,1,0,0,0]).reshape(-1,1), [0,1,1,1,0,0,0])"
   ]
  },
  {
   "cell_type": "code",
   "execution_count": 42,
   "metadata": {},
   "outputs": [
    {
     "name": "stdout",
     "output_type": "stream",
     "text": [
      "-----\n",
      "warn: Default solver will be changed to 'lbfgs' in 0.22. Specify a solver to silence this warning.\n",
      "<class 'FutureWarning'>\n",
      "{message : FutureWarning(\"Default solver will be changed to 'lbfgs' in 0.22. Specify a solver to silence this warning.\"), category : 'FutureWarning', filename : 'C:\\\\Users\\\\aman.khatri91425\\\\AppData\\\\Local\\\\Continuum\\\\anaconda3\\\\lib\\\\site-packages\\\\sklearn\\\\linear_model\\\\logistic.py', lineno : 433, line : None}\n"
     ]
    }
   ],
   "source": [
    "with warnings.catch_warnings(record=True) as caught_warnings:\n",
    "        warnings.simplefilter(\"always\")\n",
    "        x = LogisticRegression()\n",
    "        x.fit(np.array([0,1,1,1,0,0,0]).reshape(-1,1), [0,1,1,1,0,0,0])\n",
    "        for warn in caught_warnings:\n",
    "            print(\"-----\")\n",
    "            print(f\"warn: {warn.message}\")\n",
    "            print(warn.category)\n",
    "            print(str(warn))"
   ]
  },
  {
   "cell_type": "code",
   "execution_count": 48,
   "metadata": {},
   "outputs": [
    {
     "name": "stderr",
     "output_type": "stream",
     "text": [
      "2020-12-20 17:21:45,133 - INFO       - before1\n",
      "2020-12-20 17:21:45,133 - INFO       - before1\n",
      "2020-12-20 17:21:45,133 - INFO       - before1\n",
      "2020-12-20 17:21:45,133 - INFO       - before1\n",
      "2020-12-20 17:21:45,133 - INFO       - before1\n",
      "2020-12-20 17:21:45,133 - INFO       - before1\n",
      "2020-12-20 17:21:45,138 - WARNING    - Default solver will be changed to 'lbfgs' in 0.22. Specify a solver to silence this warning.\n",
      "\n",
      "2020-12-20 17:21:45,138 - WARNING    - Default solver will be changed to 'lbfgs' in 0.22. Specify a solver to silence this warning.\n",
      "\n",
      "2020-12-20 17:21:45,138 - WARNING    - Default solver will be changed to 'lbfgs' in 0.22. Specify a solver to silence this warning.\n",
      "\n",
      "2020-12-20 17:21:45,138 - WARNING    - Default solver will be changed to 'lbfgs' in 0.22. Specify a solver to silence this warning.\n",
      "\n",
      "2020-12-20 17:21:45,138 - WARNING    - Default solver will be changed to 'lbfgs' in 0.22. Specify a solver to silence this warning.\n",
      "\n",
      "2020-12-20 17:21:45,138 - WARNING    - Default solver will be changed to 'lbfgs' in 0.22. Specify a solver to silence this warning.\n",
      "\n",
      "2020-12-20 17:21:45,143 - INFO       - after\n",
      "2020-12-20 17:21:45,143 - INFO       - after\n",
      "2020-12-20 17:21:45,143 - INFO       - after\n",
      "2020-12-20 17:21:45,143 - INFO       - after\n",
      "2020-12-20 17:21:45,143 - INFO       - after\n",
      "2020-12-20 17:21:45,143 - INFO       - after\n"
     ]
    }
   ],
   "source": [
    "logging.basicConfig(filename='myapp.log')\n",
    "logger = logging.getLogger('py.warnings')\n",
    "logging.captureWarnings(True)\n",
    "sh = logging.StreamHandler()\n",
    "sh.setLevel(logging.DEBUG)\n",
    "sh.setFormatter(logging.Formatter('%(asctime)s - %(levelname)-10s - %(message)s'))\n",
    "logger.addHandler(sh)\n",
    "\n",
    "logger.setLevel(logging.DEBUG)\n",
    "logger.info(\"before1\")\n",
    "x = LogisticRegression()\n",
    "x.fit(np.array([0,1,1,1,0,0,0]).reshape(-1,1), [0,1,1,1,0,0,0])\n",
    "logger.info(\"after\")\n",
    "\n",
    "del logging"
   ]
  },
  {
   "cell_type": "markdown",
   "metadata": {},
   "source": [
    "### Send Message using Outlook Server (Fails due to OTP auth not available)"
   ]
  },
  {
   "cell_type": "code",
   "execution_count": 6,
   "metadata": {},
   "outputs": [],
   "source": [
    "import smtplib\n",
    "\n",
    "mailobj = smtplib.SMTP('smtp-mail.outlook.com',587)\n",
    "mailobj.ehlo()\n",
    "mailobj.starttls()\n",
    "mailobj.login('aman.khatri@aam.com','*******')\n",
    "mailobj.sendmail('aman.khatri@aam.com',['aman.khatri@aam.com'],'Subject:Hello world! \\n Hello world! this is my first hello world email in Python')\n",
    "mailobj.quit()"
   ]
  },
  {
   "cell_type": "markdown",
   "metadata": {},
   "source": [
    "### Send Message using Outlook Application installed locally(Works only on Windows)"
   ]
  },
  {
   "cell_type": "code",
   "execution_count": 152,
   "metadata": {},
   "outputs": [],
   "source": [
    "import win32com.client as win32\n",
    "outlook = win32.Dispatch('outlook.application')\n",
    "mail = outlook.CreateItem(0)\n",
    "mail.To = 'aman.khatri@aam.com'\n",
    "mail.Subject = 'Message subject'\n",
    "mail.Body = 'Message body'\n",
    "mail.HTMLBody = '<h2>HTML Message body</h2>' #this field is optional\n",
    "\n",
    "# To attach a file to the email (optional):\n",
    "# attachment  = \"Path to the attachment\"\n",
    "# mail.Attachments.Add(attachment)\n",
    "\n",
    "mail.Send()"
   ]
  },
  {
   "cell_type": "markdown",
   "metadata": {},
   "source": [
    "### Upload on Oracle"
   ]
  },
  {
   "cell_type": "code",
   "execution_count": null,
   "metadata": {},
   "outputs": [],
   "source": []
  },
  {
   "cell_type": "code",
   "execution_count": null,
   "metadata": {},
   "outputs": [],
   "source": []
  },
  {
   "cell_type": "code",
   "execution_count": null,
   "metadata": {},
   "outputs": [],
   "source": []
  },
  {
   "cell_type": "code",
   "execution_count": 9,
   "metadata": {},
   "outputs": [
    {
     "name": "stdout",
     "output_type": "stream",
     "text": [
      "failed\n"
     ]
    },
    {
     "ename": "ZeroDivisionError",
     "evalue": "division by zero",
     "output_type": "error",
     "traceback": [
      "\u001b[1;31m---------------------------------------------------------------------------\u001b[0m",
      "\u001b[1;31mZeroDivisionError\u001b[0m                         Traceback (most recent call last)",
      "\u001b[1;32m<ipython-input-9-1de313a29226>\u001b[0m in \u001b[0;36m<module>\u001b[1;34m\u001b[0m\n\u001b[0;32m      1\u001b[0m \u001b[1;32mtry\u001b[0m\u001b[1;33m:\u001b[0m\u001b[1;33m\u001b[0m\u001b[1;33m\u001b[0m\u001b[0m\n\u001b[1;32m----> 2\u001b[1;33m     \u001b[1;36m0\u001b[0m\u001b[1;33m/\u001b[0m\u001b[1;36m0\u001b[0m\u001b[1;33m\u001b[0m\u001b[1;33m\u001b[0m\u001b[0m\n\u001b[0m\u001b[0;32m      3\u001b[0m     \u001b[0mprint\u001b[0m\u001b[1;33m(\u001b[0m\u001b[1;34m\"Success\"\u001b[0m\u001b[1;33m)\u001b[0m\u001b[1;33m\u001b[0m\u001b[1;33m\u001b[0m\u001b[0m\n\u001b[0;32m      4\u001b[0m \u001b[1;33m\u001b[0m\u001b[0m\n\u001b[0;32m      5\u001b[0m \u001b[1;31m# print(\"XXXX\")\u001b[0m\u001b[1;33m\u001b[0m\u001b[1;33m\u001b[0m\u001b[1;33m\u001b[0m\u001b[0m\n",
      "\u001b[1;31mZeroDivisionError\u001b[0m: division by zero"
     ]
    }
   ],
   "source": [
    "try:\n",
    "    0/0\n",
    "    print(\"Success\")\n",
    "\n",
    "# print(\"XXXX\")\n",
    "finally:\n",
    "    print('failed')\n",
    "    \n",
    "    "
   ]
  },
  {
   "cell_type": "code",
   "execution_count": null,
   "metadata": {},
   "outputs": [],
   "source": []
  }
 ],
 "metadata": {
  "kernelspec": {
   "display_name": "Python 3",
   "language": "python",
   "name": "python3"
  },
  "language_info": {
   "codemirror_mode": {
    "name": "ipython",
    "version": 3
   },
   "file_extension": ".py",
   "mimetype": "text/x-python",
   "name": "python",
   "nbconvert_exporter": "python",
   "pygments_lexer": "ipython3",
   "version": "3.8.3"
  }
 },
 "nbformat": 4,
 "nbformat_minor": 4
}
